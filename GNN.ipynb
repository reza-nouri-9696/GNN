{
  "nbformat": 4,
  "nbformat_minor": 0,
  "metadata": {
    "colab": {
      "name": "GNN.ipynb",
      "provenance": []
    },
    "kernelspec": {
      "name": "python3",
      "display_name": "Python 3"
    },
    "language_info": {
      "name": "python"
    }
  },
  "cells": [
    {
      "cell_type": "code",
      "execution_count": 2,
      "metadata": {
        "colab": {
          "base_uri": "https://localhost:8080/"
        },
        "id": "D0RCblwsXuBc",
        "outputId": "9da01bca-bb61-426d-be6e-144da6e2a620"
      },
      "outputs": [
        {
          "output_type": "stream",
          "name": "stdout",
          "text": [
            "Looking in indexes: https://pypi.org/simple, https://us-python.pkg.dev/colab-wheels/public/simple/\n",
            "Collecting stellargraph\n",
            "  Downloading stellargraph-1.2.1-py3-none-any.whl (435 kB)\n",
            "\u001b[K     |████████████████████████████████| 435 kB 5.3 MB/s \n",
            "\u001b[?25hRequirement already satisfied: networkx>=2.2 in /usr/local/lib/python3.7/dist-packages (from stellargraph) (2.6.3)\n",
            "Requirement already satisfied: pandas>=0.24 in /usr/local/lib/python3.7/dist-packages (from stellargraph) (1.3.5)\n",
            "Requirement already satisfied: scipy>=1.1.0 in /usr/local/lib/python3.7/dist-packages (from stellargraph) (1.7.3)\n",
            "Requirement already satisfied: tensorflow>=2.1.0 in /usr/local/lib/python3.7/dist-packages (from stellargraph) (2.8.2+zzzcolab20220527125636)\n",
            "Requirement already satisfied: matplotlib>=2.2 in /usr/local/lib/python3.7/dist-packages (from stellargraph) (3.2.2)\n",
            "Requirement already satisfied: scikit-learn>=0.20 in /usr/local/lib/python3.7/dist-packages (from stellargraph) (1.0.2)\n",
            "Requirement already satisfied: numpy>=1.14 in /usr/local/lib/python3.7/dist-packages (from stellargraph) (1.21.6)\n",
            "Requirement already satisfied: gensim>=3.4.0 in /usr/local/lib/python3.7/dist-packages (from stellargraph) (3.6.0)\n",
            "Requirement already satisfied: six>=1.5.0 in /usr/local/lib/python3.7/dist-packages (from gensim>=3.4.0->stellargraph) (1.15.0)\n",
            "Requirement already satisfied: smart-open>=1.2.1 in /usr/local/lib/python3.7/dist-packages (from gensim>=3.4.0->stellargraph) (5.2.1)\n",
            "Requirement already satisfied: kiwisolver>=1.0.1 in /usr/local/lib/python3.7/dist-packages (from matplotlib>=2.2->stellargraph) (1.4.3)\n",
            "Requirement already satisfied: cycler>=0.10 in /usr/local/lib/python3.7/dist-packages (from matplotlib>=2.2->stellargraph) (0.11.0)\n",
            "Requirement already satisfied: pyparsing!=2.0.4,!=2.1.2,!=2.1.6,>=2.0.1 in /usr/local/lib/python3.7/dist-packages (from matplotlib>=2.2->stellargraph) (3.0.9)\n",
            "Requirement already satisfied: python-dateutil>=2.1 in /usr/local/lib/python3.7/dist-packages (from matplotlib>=2.2->stellargraph) (2.8.2)\n",
            "Requirement already satisfied: typing-extensions in /usr/local/lib/python3.7/dist-packages (from kiwisolver>=1.0.1->matplotlib>=2.2->stellargraph) (4.1.1)\n",
            "Requirement already satisfied: pytz>=2017.3 in /usr/local/lib/python3.7/dist-packages (from pandas>=0.24->stellargraph) (2022.1)\n",
            "Requirement already satisfied: threadpoolctl>=2.0.0 in /usr/local/lib/python3.7/dist-packages (from scikit-learn>=0.20->stellargraph) (3.1.0)\n",
            "Requirement already satisfied: joblib>=0.11 in /usr/local/lib/python3.7/dist-packages (from scikit-learn>=0.20->stellargraph) (1.1.0)\n",
            "Requirement already satisfied: setuptools in /usr/local/lib/python3.7/dist-packages (from tensorflow>=2.1.0->stellargraph) (57.4.0)\n",
            "Requirement already satisfied: keras<2.9,>=2.8.0rc0 in /usr/local/lib/python3.7/dist-packages (from tensorflow>=2.1.0->stellargraph) (2.8.0)\n",
            "Requirement already satisfied: termcolor>=1.1.0 in /usr/local/lib/python3.7/dist-packages (from tensorflow>=2.1.0->stellargraph) (1.1.0)\n",
            "Requirement already satisfied: opt-einsum>=2.3.2 in /usr/local/lib/python3.7/dist-packages (from tensorflow>=2.1.0->stellargraph) (3.3.0)\n",
            "Requirement already satisfied: astunparse>=1.6.0 in /usr/local/lib/python3.7/dist-packages (from tensorflow>=2.1.0->stellargraph) (1.6.3)\n",
            "Requirement already satisfied: libclang>=9.0.1 in /usr/local/lib/python3.7/dist-packages (from tensorflow>=2.1.0->stellargraph) (14.0.1)\n",
            "Requirement already satisfied: protobuf<3.20,>=3.9.2 in /usr/local/lib/python3.7/dist-packages (from tensorflow>=2.1.0->stellargraph) (3.17.3)\n",
            "Requirement already satisfied: gast>=0.2.1 in /usr/local/lib/python3.7/dist-packages (from tensorflow>=2.1.0->stellargraph) (0.5.3)\n",
            "Requirement already satisfied: tensorboard<2.9,>=2.8 in /usr/local/lib/python3.7/dist-packages (from tensorflow>=2.1.0->stellargraph) (2.8.0)\n",
            "Requirement already satisfied: google-pasta>=0.1.1 in /usr/local/lib/python3.7/dist-packages (from tensorflow>=2.1.0->stellargraph) (0.2.0)\n",
            "Requirement already satisfied: keras-preprocessing>=1.1.1 in /usr/local/lib/python3.7/dist-packages (from tensorflow>=2.1.0->stellargraph) (1.1.2)\n",
            "Requirement already satisfied: tensorflow-estimator<2.9,>=2.8 in /usr/local/lib/python3.7/dist-packages (from tensorflow>=2.1.0->stellargraph) (2.8.0)\n",
            "Requirement already satisfied: wrapt>=1.11.0 in /usr/local/lib/python3.7/dist-packages (from tensorflow>=2.1.0->stellargraph) (1.14.1)\n",
            "Requirement already satisfied: grpcio<2.0,>=1.24.3 in /usr/local/lib/python3.7/dist-packages (from tensorflow>=2.1.0->stellargraph) (1.47.0)\n",
            "Requirement already satisfied: h5py>=2.9.0 in /usr/local/lib/python3.7/dist-packages (from tensorflow>=2.1.0->stellargraph) (3.1.0)\n",
            "Requirement already satisfied: tensorflow-io-gcs-filesystem>=0.23.1 in /usr/local/lib/python3.7/dist-packages (from tensorflow>=2.1.0->stellargraph) (0.26.0)\n",
            "Requirement already satisfied: absl-py>=0.4.0 in /usr/local/lib/python3.7/dist-packages (from tensorflow>=2.1.0->stellargraph) (1.1.0)\n",
            "Requirement already satisfied: flatbuffers>=1.12 in /usr/local/lib/python3.7/dist-packages (from tensorflow>=2.1.0->stellargraph) (2.0)\n",
            "Requirement already satisfied: wheel<1.0,>=0.23.0 in /usr/local/lib/python3.7/dist-packages (from astunparse>=1.6.0->tensorflow>=2.1.0->stellargraph) (0.37.1)\n",
            "Requirement already satisfied: cached-property in /usr/local/lib/python3.7/dist-packages (from h5py>=2.9.0->tensorflow>=2.1.0->stellargraph) (1.5.2)\n",
            "Requirement already satisfied: werkzeug>=0.11.15 in /usr/local/lib/python3.7/dist-packages (from tensorboard<2.9,>=2.8->tensorflow>=2.1.0->stellargraph) (1.0.1)\n",
            "Requirement already satisfied: markdown>=2.6.8 in /usr/local/lib/python3.7/dist-packages (from tensorboard<2.9,>=2.8->tensorflow>=2.1.0->stellargraph) (3.3.7)\n",
            "Requirement already satisfied: google-auth-oauthlib<0.5,>=0.4.1 in /usr/local/lib/python3.7/dist-packages (from tensorboard<2.9,>=2.8->tensorflow>=2.1.0->stellargraph) (0.4.6)\n",
            "Requirement already satisfied: tensorboard-data-server<0.7.0,>=0.6.0 in /usr/local/lib/python3.7/dist-packages (from tensorboard<2.9,>=2.8->tensorflow>=2.1.0->stellargraph) (0.6.1)\n",
            "Requirement already satisfied: requests<3,>=2.21.0 in /usr/local/lib/python3.7/dist-packages (from tensorboard<2.9,>=2.8->tensorflow>=2.1.0->stellargraph) (2.23.0)\n",
            "Requirement already satisfied: tensorboard-plugin-wit>=1.6.0 in /usr/local/lib/python3.7/dist-packages (from tensorboard<2.9,>=2.8->tensorflow>=2.1.0->stellargraph) (1.8.1)\n",
            "Requirement already satisfied: google-auth<3,>=1.6.3 in /usr/local/lib/python3.7/dist-packages (from tensorboard<2.9,>=2.8->tensorflow>=2.1.0->stellargraph) (1.35.0)\n",
            "Requirement already satisfied: cachetools<5.0,>=2.0.0 in /usr/local/lib/python3.7/dist-packages (from google-auth<3,>=1.6.3->tensorboard<2.9,>=2.8->tensorflow>=2.1.0->stellargraph) (4.2.4)\n",
            "Requirement already satisfied: pyasn1-modules>=0.2.1 in /usr/local/lib/python3.7/dist-packages (from google-auth<3,>=1.6.3->tensorboard<2.9,>=2.8->tensorflow>=2.1.0->stellargraph) (0.2.8)\n",
            "Requirement already satisfied: rsa<5,>=3.1.4 in /usr/local/lib/python3.7/dist-packages (from google-auth<3,>=1.6.3->tensorboard<2.9,>=2.8->tensorflow>=2.1.0->stellargraph) (4.8)\n",
            "Requirement already satisfied: requests-oauthlib>=0.7.0 in /usr/local/lib/python3.7/dist-packages (from google-auth-oauthlib<0.5,>=0.4.1->tensorboard<2.9,>=2.8->tensorflow>=2.1.0->stellargraph) (1.3.1)\n",
            "Requirement already satisfied: importlib-metadata>=4.4 in /usr/local/lib/python3.7/dist-packages (from markdown>=2.6.8->tensorboard<2.9,>=2.8->tensorflow>=2.1.0->stellargraph) (4.12.0)\n",
            "Requirement already satisfied: zipp>=0.5 in /usr/local/lib/python3.7/dist-packages (from importlib-metadata>=4.4->markdown>=2.6.8->tensorboard<2.9,>=2.8->tensorflow>=2.1.0->stellargraph) (3.8.0)\n",
            "Requirement already satisfied: pyasn1<0.5.0,>=0.4.6 in /usr/local/lib/python3.7/dist-packages (from pyasn1-modules>=0.2.1->google-auth<3,>=1.6.3->tensorboard<2.9,>=2.8->tensorflow>=2.1.0->stellargraph) (0.4.8)\n",
            "Requirement already satisfied: certifi>=2017.4.17 in /usr/local/lib/python3.7/dist-packages (from requests<3,>=2.21.0->tensorboard<2.9,>=2.8->tensorflow>=2.1.0->stellargraph) (2022.6.15)\n",
            "Requirement already satisfied: idna<3,>=2.5 in /usr/local/lib/python3.7/dist-packages (from requests<3,>=2.21.0->tensorboard<2.9,>=2.8->tensorflow>=2.1.0->stellargraph) (2.10)\n",
            "Requirement already satisfied: urllib3!=1.25.0,!=1.25.1,<1.26,>=1.21.1 in /usr/local/lib/python3.7/dist-packages (from requests<3,>=2.21.0->tensorboard<2.9,>=2.8->tensorflow>=2.1.0->stellargraph) (1.24.3)\n",
            "Requirement already satisfied: chardet<4,>=3.0.2 in /usr/local/lib/python3.7/dist-packages (from requests<3,>=2.21.0->tensorboard<2.9,>=2.8->tensorflow>=2.1.0->stellargraph) (3.0.4)\n",
            "Requirement already satisfied: oauthlib>=3.0.0 in /usr/local/lib/python3.7/dist-packages (from requests-oauthlib>=0.7.0->google-auth-oauthlib<0.5,>=0.4.1->tensorboard<2.9,>=2.8->tensorflow>=2.1.0->stellargraph) (3.2.0)\n",
            "Installing collected packages: stellargraph\n",
            "Successfully installed stellargraph-1.2.1\n"
          ]
        }
      ],
      "source": [
        "!pip install stellargraph"
      ]
    },
    {
      "cell_type": "code",
      "source": [
        "!pip install tensorflow"
      ],
      "metadata": {
        "colab": {
          "base_uri": "https://localhost:8080/"
        },
        "id": "Why4S0NNYFKo",
        "outputId": "77d189f0-45db-4ae2-e1ab-2139e69a2be4"
      },
      "execution_count": 3,
      "outputs": [
        {
          "output_type": "stream",
          "name": "stdout",
          "text": [
            "Looking in indexes: https://pypi.org/simple, https://us-python.pkg.dev/colab-wheels/public/simple/\n",
            "Requirement already satisfied: tensorflow in /usr/local/lib/python3.7/dist-packages (2.8.2+zzzcolab20220527125636)\n",
            "Requirement already satisfied: gast>=0.2.1 in /usr/local/lib/python3.7/dist-packages (from tensorflow) (0.5.3)\n",
            "Requirement already satisfied: h5py>=2.9.0 in /usr/local/lib/python3.7/dist-packages (from tensorflow) (3.1.0)\n",
            "Requirement already satisfied: keras-preprocessing>=1.1.1 in /usr/local/lib/python3.7/dist-packages (from tensorflow) (1.1.2)\n",
            "Requirement already satisfied: google-pasta>=0.1.1 in /usr/local/lib/python3.7/dist-packages (from tensorflow) (0.2.0)\n",
            "Requirement already satisfied: typing-extensions>=3.6.6 in /usr/local/lib/python3.7/dist-packages (from tensorflow) (4.1.1)\n",
            "Requirement already satisfied: libclang>=9.0.1 in /usr/local/lib/python3.7/dist-packages (from tensorflow) (14.0.1)\n",
            "Requirement already satisfied: wrapt>=1.11.0 in /usr/local/lib/python3.7/dist-packages (from tensorflow) (1.14.1)\n",
            "Requirement already satisfied: astunparse>=1.6.0 in /usr/local/lib/python3.7/dist-packages (from tensorflow) (1.6.3)\n",
            "Requirement already satisfied: setuptools in /usr/local/lib/python3.7/dist-packages (from tensorflow) (57.4.0)\n",
            "Requirement already satisfied: termcolor>=1.1.0 in /usr/local/lib/python3.7/dist-packages (from tensorflow) (1.1.0)\n",
            "Requirement already satisfied: keras<2.9,>=2.8.0rc0 in /usr/local/lib/python3.7/dist-packages (from tensorflow) (2.8.0)\n",
            "Requirement already satisfied: numpy>=1.20 in /usr/local/lib/python3.7/dist-packages (from tensorflow) (1.21.6)\n",
            "Requirement already satisfied: tensorboard<2.9,>=2.8 in /usr/local/lib/python3.7/dist-packages (from tensorflow) (2.8.0)\n",
            "Requirement already satisfied: six>=1.12.0 in /usr/local/lib/python3.7/dist-packages (from tensorflow) (1.15.0)\n",
            "Requirement already satisfied: tensorflow-estimator<2.9,>=2.8 in /usr/local/lib/python3.7/dist-packages (from tensorflow) (2.8.0)\n",
            "Requirement already satisfied: grpcio<2.0,>=1.24.3 in /usr/local/lib/python3.7/dist-packages (from tensorflow) (1.47.0)\n",
            "Requirement already satisfied: opt-einsum>=2.3.2 in /usr/local/lib/python3.7/dist-packages (from tensorflow) (3.3.0)\n",
            "Requirement already satisfied: tensorflow-io-gcs-filesystem>=0.23.1 in /usr/local/lib/python3.7/dist-packages (from tensorflow) (0.26.0)\n",
            "Requirement already satisfied: protobuf<3.20,>=3.9.2 in /usr/local/lib/python3.7/dist-packages (from tensorflow) (3.17.3)\n",
            "Requirement already satisfied: flatbuffers>=1.12 in /usr/local/lib/python3.7/dist-packages (from tensorflow) (2.0)\n",
            "Requirement already satisfied: absl-py>=0.4.0 in /usr/local/lib/python3.7/dist-packages (from tensorflow) (1.1.0)\n",
            "Requirement already satisfied: wheel<1.0,>=0.23.0 in /usr/local/lib/python3.7/dist-packages (from astunparse>=1.6.0->tensorflow) (0.37.1)\n",
            "Requirement already satisfied: cached-property in /usr/local/lib/python3.7/dist-packages (from h5py>=2.9.0->tensorflow) (1.5.2)\n",
            "Requirement already satisfied: requests<3,>=2.21.0 in /usr/local/lib/python3.7/dist-packages (from tensorboard<2.9,>=2.8->tensorflow) (2.23.0)\n",
            "Requirement already satisfied: google-auth-oauthlib<0.5,>=0.4.1 in /usr/local/lib/python3.7/dist-packages (from tensorboard<2.9,>=2.8->tensorflow) (0.4.6)\n",
            "Requirement already satisfied: google-auth<3,>=1.6.3 in /usr/local/lib/python3.7/dist-packages (from tensorboard<2.9,>=2.8->tensorflow) (1.35.0)\n",
            "Requirement already satisfied: werkzeug>=0.11.15 in /usr/local/lib/python3.7/dist-packages (from tensorboard<2.9,>=2.8->tensorflow) (1.0.1)\n",
            "Requirement already satisfied: tensorboard-plugin-wit>=1.6.0 in /usr/local/lib/python3.7/dist-packages (from tensorboard<2.9,>=2.8->tensorflow) (1.8.1)\n",
            "Requirement already satisfied: tensorboard-data-server<0.7.0,>=0.6.0 in /usr/local/lib/python3.7/dist-packages (from tensorboard<2.9,>=2.8->tensorflow) (0.6.1)\n",
            "Requirement already satisfied: markdown>=2.6.8 in /usr/local/lib/python3.7/dist-packages (from tensorboard<2.9,>=2.8->tensorflow) (3.3.7)\n",
            "Requirement already satisfied: pyasn1-modules>=0.2.1 in /usr/local/lib/python3.7/dist-packages (from google-auth<3,>=1.6.3->tensorboard<2.9,>=2.8->tensorflow) (0.2.8)\n",
            "Requirement already satisfied: rsa<5,>=3.1.4 in /usr/local/lib/python3.7/dist-packages (from google-auth<3,>=1.6.3->tensorboard<2.9,>=2.8->tensorflow) (4.8)\n",
            "Requirement already satisfied: cachetools<5.0,>=2.0.0 in /usr/local/lib/python3.7/dist-packages (from google-auth<3,>=1.6.3->tensorboard<2.9,>=2.8->tensorflow) (4.2.4)\n",
            "Requirement already satisfied: requests-oauthlib>=0.7.0 in /usr/local/lib/python3.7/dist-packages (from google-auth-oauthlib<0.5,>=0.4.1->tensorboard<2.9,>=2.8->tensorflow) (1.3.1)\n",
            "Requirement already satisfied: importlib-metadata>=4.4 in /usr/local/lib/python3.7/dist-packages (from markdown>=2.6.8->tensorboard<2.9,>=2.8->tensorflow) (4.12.0)\n",
            "Requirement already satisfied: zipp>=0.5 in /usr/local/lib/python3.7/dist-packages (from importlib-metadata>=4.4->markdown>=2.6.8->tensorboard<2.9,>=2.8->tensorflow) (3.8.0)\n",
            "Requirement already satisfied: pyasn1<0.5.0,>=0.4.6 in /usr/local/lib/python3.7/dist-packages (from pyasn1-modules>=0.2.1->google-auth<3,>=1.6.3->tensorboard<2.9,>=2.8->tensorflow) (0.4.8)\n",
            "Requirement already satisfied: idna<3,>=2.5 in /usr/local/lib/python3.7/dist-packages (from requests<3,>=2.21.0->tensorboard<2.9,>=2.8->tensorflow) (2.10)\n",
            "Requirement already satisfied: urllib3!=1.25.0,!=1.25.1,<1.26,>=1.21.1 in /usr/local/lib/python3.7/dist-packages (from requests<3,>=2.21.0->tensorboard<2.9,>=2.8->tensorflow) (1.24.3)\n",
            "Requirement already satisfied: certifi>=2017.4.17 in /usr/local/lib/python3.7/dist-packages (from requests<3,>=2.21.0->tensorboard<2.9,>=2.8->tensorflow) (2022.6.15)\n",
            "Requirement already satisfied: chardet<4,>=3.0.2 in /usr/local/lib/python3.7/dist-packages (from requests<3,>=2.21.0->tensorboard<2.9,>=2.8->tensorflow) (3.0.4)\n",
            "Requirement already satisfied: oauthlib>=3.0.0 in /usr/local/lib/python3.7/dist-packages (from requests-oauthlib>=0.7.0->google-auth-oauthlib<0.5,>=0.4.1->tensorboard<2.9,>=2.8->tensorflow) (3.2.0)\n"
          ]
        }
      ]
    },
    {
      "cell_type": "code",
      "source": [
        "!pip install tensorflow.keras"
      ],
      "metadata": {
        "colab": {
          "base_uri": "https://localhost:8080/"
        },
        "id": "Hcmg6p85YOfs",
        "outputId": "51ea7cf1-92c5-4fea-a884-c70dd97bdd49"
      },
      "execution_count": 4,
      "outputs": [
        {
          "output_type": "stream",
          "name": "stdout",
          "text": [
            "Looking in indexes: https://pypi.org/simple, https://us-python.pkg.dev/colab-wheels/public/simple/\n",
            "\u001b[31mERROR: Could not find a version that satisfies the requirement tensorflow.keras (from versions: none)\u001b[0m\n",
            "\u001b[31mERROR: No matching distribution found for tensorflow.keras\u001b[0m\n"
          ]
        }
      ]
    },
    {
      "cell_type": "code",
      "source": [
        "import pandas as pd\n",
        "import os\n",
        "\n",
        "import stellargraph as sg\n",
        "from stellargraph.mapper import FullBatchNodeGenerator\n",
        "from stellargraph.layer import GCN\n",
        "from stellargraph.mapper import GraphSAGENodeGenerator\n",
        "from stellargraph.layer import GraphSAGE\n",
        "from stellargraph.layer import GAT\n",
        "\n",
        "from tensorflow.keras import layers, optimizers, losses, metrics, Model\n",
        "from sklearn import preprocessing, feature_extraction, model_selection\n",
        "from stellargraph import datasets\n",
        "\n",
        "from IPython.display import display, HTML\n",
        "import matplotlib.pyplot as plt\n",
        "%matplotlib inline"
      ],
      "metadata": {
        "id": "5HXd4CemX4Xv"
      },
      "execution_count": 49,
      "outputs": []
    },
    {
      "cell_type": "code",
      "source": [
        "dataset = sg.datasets.Cora()\n",
        "display(HTML(dataset.description))\n",
        "G, node_subjects = dataset.load()"
      ],
      "metadata": {
        "colab": {
          "base_uri": "https://localhost:8080/",
          "height": 52
        },
        "id": "jGkH1KXZYXoQ",
        "outputId": "b20d5ab7-0656-456a-dc82-6901de85da70"
      },
      "execution_count": 5,
      "outputs": [
        {
          "output_type": "display_data",
          "data": {
            "text/plain": [
              "<IPython.core.display.HTML object>"
            ],
            "text/html": [
              "The Cora dataset consists of 2708 scientific publications classified into one of seven classes. The citation network consists of 5429 links. Each publication in the dataset is described by a 0/1-valued word vector indicating the absence/presence of the corresponding word from the dictionary. The dictionary consists of 1433 unique words."
            ]
          },
          "metadata": {}
        }
      ]
    },
    {
      "cell_type": "code",
      "source": [
        "print(G.info())"
      ],
      "metadata": {
        "colab": {
          "base_uri": "https://localhost:8080/"
        },
        "id": "0bprPasQYjkz",
        "outputId": "6f82ae44-598d-4604-e566-54e8c3ef1e9f"
      },
      "execution_count": 6,
      "outputs": [
        {
          "output_type": "stream",
          "name": "stdout",
          "text": [
            "StellarGraph: Undirected multigraph\n",
            " Nodes: 2708, Edges: 5429\n",
            "\n",
            " Node types:\n",
            "  paper: [2708]\n",
            "    Features: float32 vector, length 1433\n",
            "    Edge types: paper-cites->paper\n",
            "\n",
            " Edge types:\n",
            "    paper-cites->paper: [5429]\n",
            "        Weights: all 1 (default)\n",
            "        Features: none\n"
          ]
        }
      ]
    },
    {
      "cell_type": "code",
      "source": [
        "node_subjects.value_counts().to_frame()"
      ],
      "metadata": {
        "colab": {
          "base_uri": "https://localhost:8080/",
          "height": 269
        },
        "id": "YWi5b1TCYytz",
        "outputId": "c57d032f-2dbc-485f-a371-470b75313ec7"
      },
      "execution_count": 7,
      "outputs": [
        {
          "output_type": "execute_result",
          "data": {
            "text/plain": [
              "                        subject\n",
              "Neural_Networks             818\n",
              "Probabilistic_Methods       426\n",
              "Genetic_Algorithms          418\n",
              "Theory                      351\n",
              "Case_Based                  298\n",
              "Reinforcement_Learning      217\n",
              "Rule_Learning               180"
            ],
            "text/html": [
              "\n",
              "  <div id=\"df-d784e53c-cae6-417f-88fb-b7260297bf42\">\n",
              "    <div class=\"colab-df-container\">\n",
              "      <div>\n",
              "<style scoped>\n",
              "    .dataframe tbody tr th:only-of-type {\n",
              "        vertical-align: middle;\n",
              "    }\n",
              "\n",
              "    .dataframe tbody tr th {\n",
              "        vertical-align: top;\n",
              "    }\n",
              "\n",
              "    .dataframe thead th {\n",
              "        text-align: right;\n",
              "    }\n",
              "</style>\n",
              "<table border=\"1\" class=\"dataframe\">\n",
              "  <thead>\n",
              "    <tr style=\"text-align: right;\">\n",
              "      <th></th>\n",
              "      <th>subject</th>\n",
              "    </tr>\n",
              "  </thead>\n",
              "  <tbody>\n",
              "    <tr>\n",
              "      <th>Neural_Networks</th>\n",
              "      <td>818</td>\n",
              "    </tr>\n",
              "    <tr>\n",
              "      <th>Probabilistic_Methods</th>\n",
              "      <td>426</td>\n",
              "    </tr>\n",
              "    <tr>\n",
              "      <th>Genetic_Algorithms</th>\n",
              "      <td>418</td>\n",
              "    </tr>\n",
              "    <tr>\n",
              "      <th>Theory</th>\n",
              "      <td>351</td>\n",
              "    </tr>\n",
              "    <tr>\n",
              "      <th>Case_Based</th>\n",
              "      <td>298</td>\n",
              "    </tr>\n",
              "    <tr>\n",
              "      <th>Reinforcement_Learning</th>\n",
              "      <td>217</td>\n",
              "    </tr>\n",
              "    <tr>\n",
              "      <th>Rule_Learning</th>\n",
              "      <td>180</td>\n",
              "    </tr>\n",
              "  </tbody>\n",
              "</table>\n",
              "</div>\n",
              "      <button class=\"colab-df-convert\" onclick=\"convertToInteractive('df-d784e53c-cae6-417f-88fb-b7260297bf42')\"\n",
              "              title=\"Convert this dataframe to an interactive table.\"\n",
              "              style=\"display:none;\">\n",
              "        \n",
              "  <svg xmlns=\"http://www.w3.org/2000/svg\" height=\"24px\"viewBox=\"0 0 24 24\"\n",
              "       width=\"24px\">\n",
              "    <path d=\"M0 0h24v24H0V0z\" fill=\"none\"/>\n",
              "    <path d=\"M18.56 5.44l.94 2.06.94-2.06 2.06-.94-2.06-.94-.94-2.06-.94 2.06-2.06.94zm-11 1L8.5 8.5l.94-2.06 2.06-.94-2.06-.94L8.5 2.5l-.94 2.06-2.06.94zm10 10l.94 2.06.94-2.06 2.06-.94-2.06-.94-.94-2.06-.94 2.06-2.06.94z\"/><path d=\"M17.41 7.96l-1.37-1.37c-.4-.4-.92-.59-1.43-.59-.52 0-1.04.2-1.43.59L10.3 9.45l-7.72 7.72c-.78.78-.78 2.05 0 2.83L4 21.41c.39.39.9.59 1.41.59.51 0 1.02-.2 1.41-.59l7.78-7.78 2.81-2.81c.8-.78.8-2.07 0-2.86zM5.41 20L4 18.59l7.72-7.72 1.47 1.35L5.41 20z\"/>\n",
              "  </svg>\n",
              "      </button>\n",
              "      \n",
              "  <style>\n",
              "    .colab-df-container {\n",
              "      display:flex;\n",
              "      flex-wrap:wrap;\n",
              "      gap: 12px;\n",
              "    }\n",
              "\n",
              "    .colab-df-convert {\n",
              "      background-color: #E8F0FE;\n",
              "      border: none;\n",
              "      border-radius: 50%;\n",
              "      cursor: pointer;\n",
              "      display: none;\n",
              "      fill: #1967D2;\n",
              "      height: 32px;\n",
              "      padding: 0 0 0 0;\n",
              "      width: 32px;\n",
              "    }\n",
              "\n",
              "    .colab-df-convert:hover {\n",
              "      background-color: #E2EBFA;\n",
              "      box-shadow: 0px 1px 2px rgba(60, 64, 67, 0.3), 0px 1px 3px 1px rgba(60, 64, 67, 0.15);\n",
              "      fill: #174EA6;\n",
              "    }\n",
              "\n",
              "    [theme=dark] .colab-df-convert {\n",
              "      background-color: #3B4455;\n",
              "      fill: #D2E3FC;\n",
              "    }\n",
              "\n",
              "    [theme=dark] .colab-df-convert:hover {\n",
              "      background-color: #434B5C;\n",
              "      box-shadow: 0px 1px 3px 1px rgba(0, 0, 0, 0.15);\n",
              "      filter: drop-shadow(0px 1px 2px rgba(0, 0, 0, 0.3));\n",
              "      fill: #FFFFFF;\n",
              "    }\n",
              "  </style>\n",
              "\n",
              "      <script>\n",
              "        const buttonEl =\n",
              "          document.querySelector('#df-d784e53c-cae6-417f-88fb-b7260297bf42 button.colab-df-convert');\n",
              "        buttonEl.style.display =\n",
              "          google.colab.kernel.accessAllowed ? 'block' : 'none';\n",
              "\n",
              "        async function convertToInteractive(key) {\n",
              "          const element = document.querySelector('#df-d784e53c-cae6-417f-88fb-b7260297bf42');\n",
              "          const dataTable =\n",
              "            await google.colab.kernel.invokeFunction('convertToInteractive',\n",
              "                                                     [key], {});\n",
              "          if (!dataTable) return;\n",
              "\n",
              "          const docLinkHtml = 'Like what you see? Visit the ' +\n",
              "            '<a target=\"_blank\" href=https://colab.research.google.com/notebooks/data_table.ipynb>data table notebook</a>'\n",
              "            + ' to learn more about interactive tables.';\n",
              "          element.innerHTML = '';\n",
              "          dataTable['output_type'] = 'display_data';\n",
              "          await google.colab.output.renderOutput(dataTable, element);\n",
              "          const docLink = document.createElement('div');\n",
              "          docLink.innerHTML = docLinkHtml;\n",
              "          element.appendChild(docLink);\n",
              "        }\n",
              "      </script>\n",
              "    </div>\n",
              "  </div>\n",
              "  "
            ]
          },
          "metadata": {},
          "execution_count": 7
        }
      ]
    },
    {
      "cell_type": "code",
      "source": [
        "#جداسازی داده ها\n",
        "train_subjects, test_subjects = model_selection.train_test_split( node_subjects, train_size=140, test_size=None, stratify=node_subjects)\n",
        "\n",
        "val_subjects, test_subjects = model_selection.train_test_split(test_subjects, train_size=500, test_size=None, stratify=test_subjects)"
      ],
      "metadata": {
        "id": "EZlejPUWZEq3"
      },
      "execution_count": 8,
      "outputs": []
    },
    {
      "cell_type": "code",
      "source": [
        "#تعداد کلاس ها\n",
        "train_subjects.value_counts().to_frame()"
      ],
      "metadata": {
        "colab": {
          "base_uri": "https://localhost:8080/",
          "height": 269
        },
        "id": "7__VuikSZY_F",
        "outputId": "07a648d0-f309-447c-a0d5-7f68027d6453"
      },
      "execution_count": 9,
      "outputs": [
        {
          "output_type": "execute_result",
          "data": {
            "text/plain": [
              "                        subject\n",
              "Neural_Networks              42\n",
              "Probabilistic_Methods        22\n",
              "Genetic_Algorithms           22\n",
              "Theory                       18\n",
              "Case_Based                   16\n",
              "Reinforcement_Learning       11\n",
              "Rule_Learning                 9"
            ],
            "text/html": [
              "\n",
              "  <div id=\"df-6f40ba74-b446-48aa-a64a-11dd1bdc9432\">\n",
              "    <div class=\"colab-df-container\">\n",
              "      <div>\n",
              "<style scoped>\n",
              "    .dataframe tbody tr th:only-of-type {\n",
              "        vertical-align: middle;\n",
              "    }\n",
              "\n",
              "    .dataframe tbody tr th {\n",
              "        vertical-align: top;\n",
              "    }\n",
              "\n",
              "    .dataframe thead th {\n",
              "        text-align: right;\n",
              "    }\n",
              "</style>\n",
              "<table border=\"1\" class=\"dataframe\">\n",
              "  <thead>\n",
              "    <tr style=\"text-align: right;\">\n",
              "      <th></th>\n",
              "      <th>subject</th>\n",
              "    </tr>\n",
              "  </thead>\n",
              "  <tbody>\n",
              "    <tr>\n",
              "      <th>Neural_Networks</th>\n",
              "      <td>42</td>\n",
              "    </tr>\n",
              "    <tr>\n",
              "      <th>Probabilistic_Methods</th>\n",
              "      <td>22</td>\n",
              "    </tr>\n",
              "    <tr>\n",
              "      <th>Genetic_Algorithms</th>\n",
              "      <td>22</td>\n",
              "    </tr>\n",
              "    <tr>\n",
              "      <th>Theory</th>\n",
              "      <td>18</td>\n",
              "    </tr>\n",
              "    <tr>\n",
              "      <th>Case_Based</th>\n",
              "      <td>16</td>\n",
              "    </tr>\n",
              "    <tr>\n",
              "      <th>Reinforcement_Learning</th>\n",
              "      <td>11</td>\n",
              "    </tr>\n",
              "    <tr>\n",
              "      <th>Rule_Learning</th>\n",
              "      <td>9</td>\n",
              "    </tr>\n",
              "  </tbody>\n",
              "</table>\n",
              "</div>\n",
              "      <button class=\"colab-df-convert\" onclick=\"convertToInteractive('df-6f40ba74-b446-48aa-a64a-11dd1bdc9432')\"\n",
              "              title=\"Convert this dataframe to an interactive table.\"\n",
              "              style=\"display:none;\">\n",
              "        \n",
              "  <svg xmlns=\"http://www.w3.org/2000/svg\" height=\"24px\"viewBox=\"0 0 24 24\"\n",
              "       width=\"24px\">\n",
              "    <path d=\"M0 0h24v24H0V0z\" fill=\"none\"/>\n",
              "    <path d=\"M18.56 5.44l.94 2.06.94-2.06 2.06-.94-2.06-.94-.94-2.06-.94 2.06-2.06.94zm-11 1L8.5 8.5l.94-2.06 2.06-.94-2.06-.94L8.5 2.5l-.94 2.06-2.06.94zm10 10l.94 2.06.94-2.06 2.06-.94-2.06-.94-.94-2.06-.94 2.06-2.06.94z\"/><path d=\"M17.41 7.96l-1.37-1.37c-.4-.4-.92-.59-1.43-.59-.52 0-1.04.2-1.43.59L10.3 9.45l-7.72 7.72c-.78.78-.78 2.05 0 2.83L4 21.41c.39.39.9.59 1.41.59.51 0 1.02-.2 1.41-.59l7.78-7.78 2.81-2.81c.8-.78.8-2.07 0-2.86zM5.41 20L4 18.59l7.72-7.72 1.47 1.35L5.41 20z\"/>\n",
              "  </svg>\n",
              "      </button>\n",
              "      \n",
              "  <style>\n",
              "    .colab-df-container {\n",
              "      display:flex;\n",
              "      flex-wrap:wrap;\n",
              "      gap: 12px;\n",
              "    }\n",
              "\n",
              "    .colab-df-convert {\n",
              "      background-color: #E8F0FE;\n",
              "      border: none;\n",
              "      border-radius: 50%;\n",
              "      cursor: pointer;\n",
              "      display: none;\n",
              "      fill: #1967D2;\n",
              "      height: 32px;\n",
              "      padding: 0 0 0 0;\n",
              "      width: 32px;\n",
              "    }\n",
              "\n",
              "    .colab-df-convert:hover {\n",
              "      background-color: #E2EBFA;\n",
              "      box-shadow: 0px 1px 2px rgba(60, 64, 67, 0.3), 0px 1px 3px 1px rgba(60, 64, 67, 0.15);\n",
              "      fill: #174EA6;\n",
              "    }\n",
              "\n",
              "    [theme=dark] .colab-df-convert {\n",
              "      background-color: #3B4455;\n",
              "      fill: #D2E3FC;\n",
              "    }\n",
              "\n",
              "    [theme=dark] .colab-df-convert:hover {\n",
              "      background-color: #434B5C;\n",
              "      box-shadow: 0px 1px 3px 1px rgba(0, 0, 0, 0.15);\n",
              "      filter: drop-shadow(0px 1px 2px rgba(0, 0, 0, 0.3));\n",
              "      fill: #FFFFFF;\n",
              "    }\n",
              "  </style>\n",
              "\n",
              "      <script>\n",
              "        const buttonEl =\n",
              "          document.querySelector('#df-6f40ba74-b446-48aa-a64a-11dd1bdc9432 button.colab-df-convert');\n",
              "        buttonEl.style.display =\n",
              "          google.colab.kernel.accessAllowed ? 'block' : 'none';\n",
              "\n",
              "        async function convertToInteractive(key) {\n",
              "          const element = document.querySelector('#df-6f40ba74-b446-48aa-a64a-11dd1bdc9432');\n",
              "          const dataTable =\n",
              "            await google.colab.kernel.invokeFunction('convertToInteractive',\n",
              "                                                     [key], {});\n",
              "          if (!dataTable) return;\n",
              "\n",
              "          const docLinkHtml = 'Like what you see? Visit the ' +\n",
              "            '<a target=\"_blank\" href=https://colab.research.google.com/notebooks/data_table.ipynb>data table notebook</a>'\n",
              "            + ' to learn more about interactive tables.';\n",
              "          element.innerHTML = '';\n",
              "          dataTable['output_type'] = 'display_data';\n",
              "          await google.colab.output.renderOutput(dataTable, element);\n",
              "          const docLink = document.createElement('div');\n",
              "          docLink.innerHTML = docLinkHtml;\n",
              "          element.appendChild(docLink);\n",
              "        }\n",
              "      </script>\n",
              "    </div>\n",
              "  </div>\n",
              "  "
            ]
          },
          "metadata": {},
          "execution_count": 9
        }
      ]
    },
    {
      "cell_type": "code",
      "source": [
        "#تبدیل به بردار (one-hot)\n",
        "target_encoding = preprocessing.LabelBinarizer()\n",
        "\n",
        "train_targets = target_encoding.fit_transform(train_subjects)\n",
        "val_targets = target_encoding.transform(val_subjects)\n",
        "test_targets = target_encoding.transform(test_subjects)\n",
        "print (test_targets[6])"
      ],
      "metadata": {
        "colab": {
          "base_uri": "https://localhost:8080/"
        },
        "id": "VwkPApC4Z749",
        "outputId": "ec499117-7e0a-42b8-96a6-46a8bc08a365"
      },
      "execution_count": 12,
      "outputs": [
        {
          "output_type": "stream",
          "name": "stdout",
          "text": [
            "[0 0 0 1 0 0 0]\n"
          ]
        }
      ]
    },
    {
      "cell_type": "code",
      "source": [
        "#این کلاس در واقع اطلاعات گراف را برای ورودی مدل میتواند آماده کند\n",
        "generator = FullBatchNodeGenerator(G, method=\"gcn\")"
      ],
      "metadata": {
        "colab": {
          "base_uri": "https://localhost:8080/"
        },
        "id": "jE_fcpWsa1Pc",
        "outputId": "17309c80-5f30-4c1a-95cb-989a9eda443d"
      },
      "execution_count": 13,
      "outputs": [
        {
          "output_type": "stream",
          "name": "stdout",
          "text": [
            "Using GCN (local pooling) filters...\n"
          ]
        }
      ]
    },
    {
      "cell_type": "code",
      "source": [
        "#داده های ورودی را اماده میکنیم\n",
        "train_gen = generator.flow(train_subjects.index, train_targets)"
      ],
      "metadata": {
        "id": "85czccpucCeA"
      },
      "execution_count": 14,
      "outputs": []
    },
    {
      "cell_type": "code",
      "source": [
        "#.مشخصات مدل را می دهیم.مدل شامل دولایه که هرکدام 16 نود دارند و فعالسازشان رلیو است می باشد.نصف داده هارا هم به عنوان دراپ اوت در نظر میگیریم ومدل را ایجاد میکنیم\n",
        "gcn = GCN(layer_sizes=[16, 16], activations=[\"relu\", \"relu\"], generator=generator, dropout=0.5)"
      ],
      "metadata": {
        "id": "_vat0G5Rc1d9"
      },
      "execution_count": 16,
      "outputs": []
    },
    {
      "cell_type": "code",
      "source": [
        "#خروجی یک بردار 16 بعدی را برای هر گره در هنگام اموزش یا پیش بینی نگه میدارد.وپیش بینی واقعی هرگره از این بردار محاسبه میشود.یک لایه اضافی با یک نود هم دارد که از سافت مکس استفاده میکند برای محاسبه احتمال هرکلاس\n",
        "x_inp, x_out = gcn.in_out_tensors()\n",
        "\n",
        "x_out"
      ],
      "metadata": {
        "colab": {
          "base_uri": "https://localhost:8080/"
        },
        "id": "tFkXw2FzdhTl",
        "outputId": "1bcf03c9-58be-495a-c156-b401ac63792c"
      },
      "execution_count": 17,
      "outputs": [
        {
          "output_type": "execute_result",
          "data": {
            "text/plain": [
              "<KerasTensor: shape=(1, None, 16) dtype=float32 (created by layer 'gather_indices')>"
            ]
          },
          "metadata": {},
          "execution_count": 17
        }
      ]
    },
    {
      "cell_type": "code",
      "source": [
        "#prediction برابر است با بیشترین مقدار سافت مکس\n",
        "predictions = layers.Dense(units=train_targets.shape[1], activation=\"softmax\")(x_out)"
      ],
      "metadata": {
        "id": "aCHkbDR_yC2X"
      },
      "execution_count": 19,
      "outputs": []
    },
    {
      "cell_type": "markdown",
      "source": [
        " **training and evaluation**"
      ],
      "metadata": {
        "id": "B2v_yLm5yQoE"
      }
    },
    {
      "cell_type": "code",
      "source": [
        "model = Model(inputs=x_inp, outputs=predictions)\n",
        "model.compile(\n",
        "    optimizer=optimizers.Adam(lr=0.01),\n",
        "    loss=losses.categorical_crossentropy,\n",
        "    metrics=[\"acc\"],\n",
        ")"
      ],
      "metadata": {
        "colab": {
          "base_uri": "https://localhost:8080/"
        },
        "id": "2YQEqp1Lxn3A",
        "outputId": "80cde9d6-bbeb-49af-f865-87f8fa59953b"
      },
      "execution_count": 20,
      "outputs": [
        {
          "output_type": "stream",
          "name": "stderr",
          "text": [
            "/usr/local/lib/python3.7/dist-packages/keras/optimizer_v2/adam.py:105: UserWarning: The `lr` argument is deprecated, use `learning_rate` instead.\n",
            "  super(Adam, self).__init__(name, **kwargs)\n"
          ]
        }
      ]
    },
    {
      "cell_type": "code",
      "source": [
        "#میخواهیم عملکرد را در داده های ارزیابی هم حفظ کنیم ،یعنی یک مولد داده های دیگر هم باید ایجاد کنیم برای داده های ارزیابی\n",
        "val_gen = generator.flow(val_subjects.index, val_targets)"
      ],
      "metadata": {
        "id": "Hx_yNyrhy17M"
      },
      "execution_count": 22,
      "outputs": []
    },
    {
      "cell_type": "code",
      "source": [
        "#یک مقدار توقف برای ایپوک هاست که اگر دقت بهتر نشد دیگه ادامه ندهد\n",
        "from tensorflow.keras.callbacks import EarlyStopping\n",
        "\n",
        "es_callback = EarlyStopping(monitor=\"val_acc\", patience=100, restore_best_weights=True)"
      ],
      "metadata": {
        "id": "eEQerN0Kzl0H"
      },
      "execution_count": 32,
      "outputs": []
    },
    {
      "cell_type": "code",
      "source": [
        "history = model.fit(\n",
        "    train_gen,\n",
        "    epochs=200,\n",
        "    validation_data=val_gen,\n",
        "    verbose=2,\n",
        "    shuffle=False,  # this should be False, since shuffling data means shuffling the whole graph\n",
        "    callbacks=[es_callback],\n",
        ")"
      ],
      "metadata": {
        "colab": {
          "base_uri": "https://localhost:8080/"
        },
        "id": "8Z5DpX2szf87",
        "outputId": "dda1e5b7-ade2-4a03-a730-8304224b5abb"
      },
      "execution_count": 33,
      "outputs": [
        {
          "output_type": "stream",
          "name": "stdout",
          "text": [
            "Epoch 1/200\n",
            "1/1 - 0s - loss: 0.0224 - acc: 1.0000 - val_loss: 0.7915 - val_acc: 0.8280 - 185ms/epoch - 185ms/step\n",
            "Epoch 2/200\n",
            "1/1 - 0s - loss: 0.0377 - acc: 0.9857 - val_loss: 0.7894 - val_acc: 0.8300 - 146ms/epoch - 146ms/step\n",
            "Epoch 3/200\n",
            "1/1 - 0s - loss: 0.0258 - acc: 0.9929 - val_loss: 0.7890 - val_acc: 0.8280 - 144ms/epoch - 144ms/step\n",
            "Epoch 4/200\n",
            "1/1 - 0s - loss: 0.0298 - acc: 0.9929 - val_loss: 0.7891 - val_acc: 0.8260 - 156ms/epoch - 156ms/step\n",
            "Epoch 5/200\n",
            "1/1 - 0s - loss: 0.0086 - acc: 1.0000 - val_loss: 0.7904 - val_acc: 0.8280 - 150ms/epoch - 150ms/step\n",
            "Epoch 6/200\n",
            "1/1 - 0s - loss: 0.0103 - acc: 1.0000 - val_loss: 0.7928 - val_acc: 0.8280 - 143ms/epoch - 143ms/step\n",
            "Epoch 7/200\n",
            "1/1 - 0s - loss: 0.0203 - acc: 1.0000 - val_loss: 0.7919 - val_acc: 0.8300 - 156ms/epoch - 156ms/step\n",
            "Epoch 8/200\n",
            "1/1 - 0s - loss: 0.0214 - acc: 1.0000 - val_loss: 0.7923 - val_acc: 0.8300 - 140ms/epoch - 140ms/step\n",
            "Epoch 9/200\n",
            "1/1 - 0s - loss: 0.0134 - acc: 1.0000 - val_loss: 0.7943 - val_acc: 0.8340 - 151ms/epoch - 151ms/step\n",
            "Epoch 10/200\n",
            "1/1 - 0s - loss: 0.0445 - acc: 0.9857 - val_loss: 0.8013 - val_acc: 0.8300 - 152ms/epoch - 152ms/step\n",
            "Epoch 11/200\n",
            "1/1 - 0s - loss: 0.0285 - acc: 0.9929 - val_loss: 0.8121 - val_acc: 0.8280 - 148ms/epoch - 148ms/step\n",
            "Epoch 12/200\n",
            "1/1 - 0s - loss: 0.0347 - acc: 0.9857 - val_loss: 0.8264 - val_acc: 0.8180 - 145ms/epoch - 145ms/step\n",
            "Epoch 13/200\n",
            "1/1 - 0s - loss: 0.0182 - acc: 1.0000 - val_loss: 0.8415 - val_acc: 0.8200 - 148ms/epoch - 148ms/step\n",
            "Epoch 14/200\n",
            "1/1 - 0s - loss: 0.0243 - acc: 1.0000 - val_loss: 0.8571 - val_acc: 0.8160 - 157ms/epoch - 157ms/step\n",
            "Epoch 15/200\n",
            "1/1 - 0s - loss: 0.0191 - acc: 0.9929 - val_loss: 0.8721 - val_acc: 0.8180 - 146ms/epoch - 146ms/step\n",
            "Epoch 16/200\n",
            "1/1 - 0s - loss: 0.0334 - acc: 0.9857 - val_loss: 0.8884 - val_acc: 0.8120 - 153ms/epoch - 153ms/step\n",
            "Epoch 17/200\n",
            "1/1 - 0s - loss: 0.0206 - acc: 0.9929 - val_loss: 0.8958 - val_acc: 0.8120 - 146ms/epoch - 146ms/step\n",
            "Epoch 18/200\n",
            "1/1 - 0s - loss: 0.0163 - acc: 0.9929 - val_loss: 0.8944 - val_acc: 0.8180 - 156ms/epoch - 156ms/step\n",
            "Epoch 19/200\n",
            "1/1 - 0s - loss: 0.0125 - acc: 1.0000 - val_loss: 0.8877 - val_acc: 0.8200 - 154ms/epoch - 154ms/step\n",
            "Epoch 20/200\n",
            "1/1 - 0s - loss: 0.0190 - acc: 1.0000 - val_loss: 0.8785 - val_acc: 0.8220 - 140ms/epoch - 140ms/step\n",
            "Epoch 21/200\n",
            "1/1 - 0s - loss: 0.0291 - acc: 0.9857 - val_loss: 0.8725 - val_acc: 0.8240 - 144ms/epoch - 144ms/step\n",
            "Epoch 22/200\n",
            "1/1 - 0s - loss: 0.0302 - acc: 0.9857 - val_loss: 0.8690 - val_acc: 0.8280 - 149ms/epoch - 149ms/step\n",
            "Epoch 23/200\n",
            "1/1 - 0s - loss: 0.0065 - acc: 1.0000 - val_loss: 0.8692 - val_acc: 0.8260 - 147ms/epoch - 147ms/step\n",
            "Epoch 24/200\n",
            "1/1 - 0s - loss: 0.0429 - acc: 0.9786 - val_loss: 0.8709 - val_acc: 0.8160 - 152ms/epoch - 152ms/step\n",
            "Epoch 25/200\n",
            "1/1 - 0s - loss: 0.0376 - acc: 0.9929 - val_loss: 0.8754 - val_acc: 0.8120 - 147ms/epoch - 147ms/step\n",
            "Epoch 26/200\n",
            "1/1 - 0s - loss: 0.0218 - acc: 0.9929 - val_loss: 0.8833 - val_acc: 0.8120 - 147ms/epoch - 147ms/step\n",
            "Epoch 27/200\n",
            "1/1 - 0s - loss: 0.0264 - acc: 0.9929 - val_loss: 0.8931 - val_acc: 0.8140 - 145ms/epoch - 145ms/step\n",
            "Epoch 28/200\n",
            "1/1 - 0s - loss: 0.0413 - acc: 0.9857 - val_loss: 0.8999 - val_acc: 0.8140 - 147ms/epoch - 147ms/step\n",
            "Epoch 29/200\n",
            "1/1 - 0s - loss: 0.0206 - acc: 0.9929 - val_loss: 0.9063 - val_acc: 0.8140 - 144ms/epoch - 144ms/step\n",
            "Epoch 30/200\n",
            "1/1 - 0s - loss: 0.0201 - acc: 0.9929 - val_loss: 0.9149 - val_acc: 0.8080 - 153ms/epoch - 153ms/step\n",
            "Epoch 31/200\n",
            "1/1 - 0s - loss: 0.0062 - acc: 1.0000 - val_loss: 0.9251 - val_acc: 0.8040 - 149ms/epoch - 149ms/step\n",
            "Epoch 32/200\n",
            "1/1 - 0s - loss: 0.0352 - acc: 0.9857 - val_loss: 0.9324 - val_acc: 0.8020 - 142ms/epoch - 142ms/step\n",
            "Epoch 33/200\n",
            "1/1 - 0s - loss: 0.0101 - acc: 1.0000 - val_loss: 0.9383 - val_acc: 0.8000 - 144ms/epoch - 144ms/step\n",
            "Epoch 34/200\n",
            "1/1 - 0s - loss: 0.0325 - acc: 0.9857 - val_loss: 0.9444 - val_acc: 0.8000 - 146ms/epoch - 146ms/step\n",
            "Epoch 35/200\n",
            "1/1 - 0s - loss: 0.0234 - acc: 0.9929 - val_loss: 0.9468 - val_acc: 0.8000 - 175ms/epoch - 175ms/step\n",
            "Epoch 36/200\n",
            "1/1 - 0s - loss: 0.0230 - acc: 0.9929 - val_loss: 0.9393 - val_acc: 0.8080 - 149ms/epoch - 149ms/step\n",
            "Epoch 37/200\n",
            "1/1 - 0s - loss: 0.0158 - acc: 1.0000 - val_loss: 0.9332 - val_acc: 0.8020 - 142ms/epoch - 142ms/step\n",
            "Epoch 38/200\n",
            "1/1 - 0s - loss: 0.0351 - acc: 0.9929 - val_loss: 0.9273 - val_acc: 0.8060 - 157ms/epoch - 157ms/step\n",
            "Epoch 39/200\n",
            "1/1 - 0s - loss: 0.0189 - acc: 1.0000 - val_loss: 0.9239 - val_acc: 0.8100 - 161ms/epoch - 161ms/step\n",
            "Epoch 40/200\n",
            "1/1 - 0s - loss: 0.0285 - acc: 0.9929 - val_loss: 0.9225 - val_acc: 0.8080 - 149ms/epoch - 149ms/step\n",
            "Epoch 41/200\n",
            "1/1 - 0s - loss: 0.0111 - acc: 1.0000 - val_loss: 0.9240 - val_acc: 0.8100 - 177ms/epoch - 177ms/step\n",
            "Epoch 42/200\n",
            "1/1 - 0s - loss: 0.0052 - acc: 1.0000 - val_loss: 0.9264 - val_acc: 0.8140 - 140ms/epoch - 140ms/step\n",
            "Epoch 43/200\n",
            "1/1 - 0s - loss: 0.0089 - acc: 1.0000 - val_loss: 0.9297 - val_acc: 0.8160 - 158ms/epoch - 158ms/step\n",
            "Epoch 44/200\n",
            "1/1 - 0s - loss: 0.0183 - acc: 0.9929 - val_loss: 0.9331 - val_acc: 0.8160 - 149ms/epoch - 149ms/step\n",
            "Epoch 45/200\n",
            "1/1 - 0s - loss: 0.0149 - acc: 0.9929 - val_loss: 0.9363 - val_acc: 0.8220 - 141ms/epoch - 141ms/step\n",
            "Epoch 46/200\n",
            "1/1 - 0s - loss: 0.0195 - acc: 0.9929 - val_loss: 0.9400 - val_acc: 0.8160 - 148ms/epoch - 148ms/step\n",
            "Epoch 47/200\n",
            "1/1 - 0s - loss: 0.0208 - acc: 0.9857 - val_loss: 0.9443 - val_acc: 0.8200 - 149ms/epoch - 149ms/step\n",
            "Epoch 48/200\n",
            "1/1 - 0s - loss: 0.0224 - acc: 0.9857 - val_loss: 0.9473 - val_acc: 0.8180 - 146ms/epoch - 146ms/step\n",
            "Epoch 49/200\n",
            "1/1 - 0s - loss: 0.0220 - acc: 0.9929 - val_loss: 0.9435 - val_acc: 0.8180 - 140ms/epoch - 140ms/step\n",
            "Epoch 50/200\n",
            "1/1 - 0s - loss: 0.0081 - acc: 1.0000 - val_loss: 0.9406 - val_acc: 0.8200 - 146ms/epoch - 146ms/step\n",
            "Epoch 51/200\n",
            "1/1 - 0s - loss: 0.0233 - acc: 0.9929 - val_loss: 0.9367 - val_acc: 0.8160 - 163ms/epoch - 163ms/step\n",
            "Epoch 52/200\n",
            "1/1 - 0s - loss: 0.0284 - acc: 0.9857 - val_loss: 0.9287 - val_acc: 0.8200 - 146ms/epoch - 146ms/step\n",
            "Epoch 53/200\n",
            "1/1 - 0s - loss: 0.0433 - acc: 0.9929 - val_loss: 0.9239 - val_acc: 0.8220 - 144ms/epoch - 144ms/step\n",
            "Epoch 54/200\n",
            "1/1 - 0s - loss: 0.0367 - acc: 0.9857 - val_loss: 0.9205 - val_acc: 0.8180 - 173ms/epoch - 173ms/step\n",
            "Epoch 55/200\n",
            "1/1 - 0s - loss: 0.0169 - acc: 0.9929 - val_loss: 0.9185 - val_acc: 0.8200 - 159ms/epoch - 159ms/step\n",
            "Epoch 56/200\n",
            "1/1 - 0s - loss: 0.0302 - acc: 0.9929 - val_loss: 0.9173 - val_acc: 0.8160 - 173ms/epoch - 173ms/step\n",
            "Epoch 57/200\n",
            "1/1 - 0s - loss: 0.0117 - acc: 0.9929 - val_loss: 0.9183 - val_acc: 0.8160 - 142ms/epoch - 142ms/step\n",
            "Epoch 58/200\n",
            "1/1 - 0s - loss: 0.0086 - acc: 1.0000 - val_loss: 0.9207 - val_acc: 0.8120 - 146ms/epoch - 146ms/step\n",
            "Epoch 59/200\n",
            "1/1 - 0s - loss: 0.0126 - acc: 1.0000 - val_loss: 0.9225 - val_acc: 0.8120 - 145ms/epoch - 145ms/step\n",
            "Epoch 60/200\n",
            "1/1 - 0s - loss: 0.0259 - acc: 0.9857 - val_loss: 0.9245 - val_acc: 0.8120 - 146ms/epoch - 146ms/step\n",
            "Epoch 61/200\n",
            "1/1 - 0s - loss: 0.0207 - acc: 0.9929 - val_loss: 0.9273 - val_acc: 0.8100 - 146ms/epoch - 146ms/step\n",
            "Epoch 62/200\n",
            "1/1 - 0s - loss: 0.0377 - acc: 0.9857 - val_loss: 0.9352 - val_acc: 0.8120 - 152ms/epoch - 152ms/step\n",
            "Epoch 63/200\n",
            "1/1 - 0s - loss: 0.0120 - acc: 1.0000 - val_loss: 0.9424 - val_acc: 0.8120 - 161ms/epoch - 161ms/step\n",
            "Epoch 64/200\n",
            "1/1 - 0s - loss: 0.0159 - acc: 1.0000 - val_loss: 0.9500 - val_acc: 0.8100 - 148ms/epoch - 148ms/step\n",
            "Epoch 65/200\n",
            "1/1 - 0s - loss: 0.0090 - acc: 1.0000 - val_loss: 0.9576 - val_acc: 0.8100 - 148ms/epoch - 148ms/step\n",
            "Epoch 66/200\n",
            "1/1 - 0s - loss: 0.0083 - acc: 1.0000 - val_loss: 0.9648 - val_acc: 0.8080 - 148ms/epoch - 148ms/step\n",
            "Epoch 67/200\n",
            "1/1 - 0s - loss: 0.0202 - acc: 0.9929 - val_loss: 0.9723 - val_acc: 0.8080 - 144ms/epoch - 144ms/step\n",
            "Epoch 68/200\n",
            "1/1 - 0s - loss: 0.0677 - acc: 0.9857 - val_loss: 0.9762 - val_acc: 0.8100 - 147ms/epoch - 147ms/step\n",
            "Epoch 69/200\n",
            "1/1 - 0s - loss: 0.0180 - acc: 0.9929 - val_loss: 0.9809 - val_acc: 0.8100 - 145ms/epoch - 145ms/step\n",
            "Epoch 70/200\n",
            "1/1 - 0s - loss: 0.0145 - acc: 0.9929 - val_loss: 0.9859 - val_acc: 0.8060 - 149ms/epoch - 149ms/step\n",
            "Epoch 71/200\n",
            "1/1 - 0s - loss: 0.0175 - acc: 0.9929 - val_loss: 0.9917 - val_acc: 0.8060 - 180ms/epoch - 180ms/step\n",
            "Epoch 72/200\n",
            "1/1 - 0s - loss: 0.0110 - acc: 1.0000 - val_loss: 0.9955 - val_acc: 0.8060 - 152ms/epoch - 152ms/step\n",
            "Epoch 73/200\n",
            "1/1 - 0s - loss: 0.0308 - acc: 0.9929 - val_loss: 0.9948 - val_acc: 0.8060 - 147ms/epoch - 147ms/step\n",
            "Epoch 74/200\n",
            "1/1 - 0s - loss: 0.0260 - acc: 0.9857 - val_loss: 0.9911 - val_acc: 0.8060 - 147ms/epoch - 147ms/step\n",
            "Epoch 75/200\n",
            "1/1 - 0s - loss: 0.0066 - acc: 1.0000 - val_loss: 0.9878 - val_acc: 0.8100 - 141ms/epoch - 141ms/step\n",
            "Epoch 76/200\n",
            "1/1 - 0s - loss: 0.0186 - acc: 0.9929 - val_loss: 0.9849 - val_acc: 0.8100 - 152ms/epoch - 152ms/step\n",
            "Epoch 77/200\n",
            "1/1 - 0s - loss: 0.0201 - acc: 0.9929 - val_loss: 0.9832 - val_acc: 0.8080 - 143ms/epoch - 143ms/step\n",
            "Epoch 78/200\n",
            "1/1 - 0s - loss: 0.0213 - acc: 1.0000 - val_loss: 0.9860 - val_acc: 0.8060 - 190ms/epoch - 190ms/step\n",
            "Epoch 79/200\n",
            "1/1 - 0s - loss: 0.0142 - acc: 1.0000 - val_loss: 0.9885 - val_acc: 0.8060 - 147ms/epoch - 147ms/step\n",
            "Epoch 80/200\n",
            "1/1 - 0s - loss: 0.0134 - acc: 1.0000 - val_loss: 0.9925 - val_acc: 0.8100 - 161ms/epoch - 161ms/step\n",
            "Epoch 81/200\n",
            "1/1 - 0s - loss: 0.0329 - acc: 0.9929 - val_loss: 0.9981 - val_acc: 0.8160 - 157ms/epoch - 157ms/step\n",
            "Epoch 82/200\n",
            "1/1 - 0s - loss: 0.0072 - acc: 1.0000 - val_loss: 1.0062 - val_acc: 0.8160 - 145ms/epoch - 145ms/step\n",
            "Epoch 83/200\n",
            "1/1 - 0s - loss: 0.0136 - acc: 1.0000 - val_loss: 1.0115 - val_acc: 0.8140 - 163ms/epoch - 163ms/step\n",
            "Epoch 84/200\n",
            "1/1 - 0s - loss: 0.0148 - acc: 1.0000 - val_loss: 1.0165 - val_acc: 0.8140 - 154ms/epoch - 154ms/step\n",
            "Epoch 85/200\n",
            "1/1 - 0s - loss: 0.0100 - acc: 1.0000 - val_loss: 1.0159 - val_acc: 0.8140 - 147ms/epoch - 147ms/step\n",
            "Epoch 86/200\n",
            "1/1 - 0s - loss: 0.0111 - acc: 1.0000 - val_loss: 1.0179 - val_acc: 0.8160 - 151ms/epoch - 151ms/step\n",
            "Epoch 87/200\n",
            "1/1 - 0s - loss: 0.0158 - acc: 1.0000 - val_loss: 1.0195 - val_acc: 0.8140 - 146ms/epoch - 146ms/step\n",
            "Epoch 88/200\n",
            "1/1 - 0s - loss: 0.0075 - acc: 1.0000 - val_loss: 1.0175 - val_acc: 0.8140 - 165ms/epoch - 165ms/step\n",
            "Epoch 89/200\n",
            "1/1 - 0s - loss: 0.0093 - acc: 0.9929 - val_loss: 1.0148 - val_acc: 0.8140 - 150ms/epoch - 150ms/step\n",
            "Epoch 90/200\n",
            "1/1 - 0s - loss: 0.0042 - acc: 1.0000 - val_loss: 1.0124 - val_acc: 0.8140 - 181ms/epoch - 181ms/step\n",
            "Epoch 91/200\n",
            "1/1 - 0s - loss: 0.0493 - acc: 0.9929 - val_loss: 1.0095 - val_acc: 0.8200 - 149ms/epoch - 149ms/step\n",
            "Epoch 92/200\n",
            "1/1 - 0s - loss: 0.0233 - acc: 0.9929 - val_loss: 1.0069 - val_acc: 0.8180 - 162ms/epoch - 162ms/step\n",
            "Epoch 93/200\n",
            "1/1 - 0s - loss: 0.0101 - acc: 1.0000 - val_loss: 1.0052 - val_acc: 0.8160 - 146ms/epoch - 146ms/step\n",
            "Epoch 94/200\n",
            "1/1 - 0s - loss: 0.0173 - acc: 0.9929 - val_loss: 1.0033 - val_acc: 0.8180 - 145ms/epoch - 145ms/step\n",
            "Epoch 95/200\n",
            "1/1 - 0s - loss: 0.0359 - acc: 0.9857 - val_loss: 1.0030 - val_acc: 0.8180 - 156ms/epoch - 156ms/step\n",
            "Epoch 96/200\n",
            "1/1 - 0s - loss: 0.0161 - acc: 0.9929 - val_loss: 1.0010 - val_acc: 0.8180 - 143ms/epoch - 143ms/step\n",
            "Epoch 97/200\n",
            "1/1 - 0s - loss: 0.0104 - acc: 1.0000 - val_loss: 1.0021 - val_acc: 0.8160 - 144ms/epoch - 144ms/step\n",
            "Epoch 98/200\n",
            "1/1 - 0s - loss: 0.0144 - acc: 0.9929 - val_loss: 1.0030 - val_acc: 0.8140 - 153ms/epoch - 153ms/step\n",
            "Epoch 99/200\n",
            "1/1 - 0s - loss: 0.0239 - acc: 0.9929 - val_loss: 1.0037 - val_acc: 0.8140 - 158ms/epoch - 158ms/step\n",
            "Epoch 100/200\n",
            "1/1 - 0s - loss: 0.0135 - acc: 0.9929 - val_loss: 1.0051 - val_acc: 0.8140 - 158ms/epoch - 158ms/step\n",
            "Epoch 101/200\n",
            "1/1 - 0s - loss: 0.0095 - acc: 1.0000 - val_loss: 1.0068 - val_acc: 0.8160 - 146ms/epoch - 146ms/step\n",
            "Epoch 102/200\n",
            "1/1 - 0s - loss: 0.0116 - acc: 1.0000 - val_loss: 1.0069 - val_acc: 0.8160 - 161ms/epoch - 161ms/step\n",
            "Epoch 103/200\n",
            "1/1 - 0s - loss: 0.0217 - acc: 0.9929 - val_loss: 1.0026 - val_acc: 0.8160 - 139ms/epoch - 139ms/step\n",
            "Epoch 104/200\n",
            "1/1 - 0s - loss: 0.0089 - acc: 1.0000 - val_loss: 0.9990 - val_acc: 0.8140 - 154ms/epoch - 154ms/step\n",
            "Epoch 105/200\n",
            "1/1 - 0s - loss: 0.0056 - acc: 1.0000 - val_loss: 0.9969 - val_acc: 0.8160 - 149ms/epoch - 149ms/step\n",
            "Epoch 106/200\n",
            "1/1 - 0s - loss: 0.0076 - acc: 1.0000 - val_loss: 0.9977 - val_acc: 0.8180 - 174ms/epoch - 174ms/step\n",
            "Epoch 107/200\n",
            "1/1 - 0s - loss: 0.0252 - acc: 1.0000 - val_loss: 0.9967 - val_acc: 0.8200 - 149ms/epoch - 149ms/step\n",
            "Epoch 108/200\n",
            "1/1 - 0s - loss: 0.0290 - acc: 0.9857 - val_loss: 0.9950 - val_acc: 0.8200 - 146ms/epoch - 146ms/step\n",
            "Epoch 109/200\n",
            "1/1 - 0s - loss: 0.0470 - acc: 0.9857 - val_loss: 0.9940 - val_acc: 0.8220 - 153ms/epoch - 153ms/step\n"
          ]
        }
      ]
    },
    {
      "cell_type": "code",
      "source": [
        "sg.utils.plot_history(history)"
      ],
      "metadata": {
        "colab": {
          "base_uri": "https://localhost:8080/",
          "height": 585
        },
        "id": "Wiu4S4DX6Oxa",
        "outputId": "19903a6c-9deb-4926-a627-dae8012b71b8"
      },
      "execution_count": 34,
      "outputs": [
        {
          "output_type": "display_data",
          "data": {
            "text/plain": [
              "<Figure size 504x576 with 2 Axes>"
            ],
            "image/png": "[encoded data removed]"
          },
          "metadata": {
            "needs_background": "light"
          }
        }
      ]
    },
    {
      "cell_type": "code",
      "source": [
        "#مولد تولید داده های تست\n",
        "test_gen = generator.flow(test_subjects.index, test_targets)"
      ],
      "metadata": {
        "id": "WA6tFBtO68o2"
      },
      "execution_count": 36,
      "outputs": []
    },
    {
      "cell_type": "code",
      "source": [
        "test_metrics = model.evaluate(test_gen)\n",
        "print(\"\\nTest Set Metrics:\")\n",
        "for name, val in zip(model.metrics_names, test_metrics):\n",
        "    print(\"\\t{}: {:0.4f}\".format(name, val))"
      ],
      "metadata": {
        "colab": {
          "base_uri": "https://localhost:8080/"
        },
        "id": "ZjUJMb0r7MlU",
        "outputId": "65728821-3e64-47cb-8b87-e91cbeff9789"
      },
      "execution_count": 37,
      "outputs": [
        {
          "output_type": "stream",
          "name": "stdout",
          "text": [
            "1/1 [==============================] - 0s 67ms/step - loss: 0.8701 - acc: 0.8104\n",
            "\n",
            "Test Set Metrics:\n",
            "\tloss: 0.8701\n",
            "\tacc: 0.8104\n"
          ]
        }
      ]
    },
    {
      "cell_type": "code",
      "source": [
        "all_nodes = node_subjects.index\n",
        "all_gen = generator.flow(all_nodes)\n",
        "all_predictions = model.predict(all_gen)"
      ],
      "metadata": {
        "id": "D0uk2WTl7ib-"
      },
      "execution_count": 38,
      "outputs": []
    },
    {
      "cell_type": "code",
      "source": [
        "node_predictions = target_encoding.inverse_transform(all_predictions.squeeze())"
      ],
      "metadata": {
        "id": "89OZfJm08coN"
      },
      "execution_count": 39,
      "outputs": []
    },
    {
      "cell_type": "code",
      "source": [
        "df = pd.DataFrame({\"Predicted\": node_predictions, \"True\": node_subjects})\n",
        "df.head(20)"
      ],
      "metadata": {
        "colab": {
          "base_uri": "https://localhost:8080/",
          "height": 677
        },
        "id": "X6wijGZA8gPM",
        "outputId": "b18c226f-cf0e-443b-b981-1c34878992b1"
      },
      "execution_count": 40,
      "outputs": [
        {
          "output_type": "execute_result",
          "data": {
            "text/plain": [
              "                      Predicted                    True\n",
              "31336           Neural_Networks         Neural_Networks\n",
              "1061127           Rule_Learning           Rule_Learning\n",
              "1106406  Reinforcement_Learning  Reinforcement_Learning\n",
              "13195    Reinforcement_Learning  Reinforcement_Learning\n",
              "37879     Probabilistic_Methods   Probabilistic_Methods\n",
              "1126012   Probabilistic_Methods   Probabilistic_Methods\n",
              "1107140   Probabilistic_Methods                  Theory\n",
              "1102850         Neural_Networks         Neural_Networks\n",
              "31349           Neural_Networks         Neural_Networks\n",
              "1106418                  Theory                  Theory\n",
              "1123188         Neural_Networks         Neural_Networks\n",
              "1128990         Neural_Networks      Genetic_Algorithms\n",
              "109323    Probabilistic_Methods   Probabilistic_Methods\n",
              "217139               Case_Based              Case_Based\n",
              "31353           Neural_Networks         Neural_Networks\n",
              "32083           Neural_Networks         Neural_Networks\n",
              "1126029  Reinforcement_Learning  Reinforcement_Learning\n",
              "1118017         Neural_Networks         Neural_Networks\n",
              "49482           Neural_Networks         Neural_Networks\n",
              "753265                   Theory         Neural_Networks"
            ],
            "text/html": [
              "\n",
              "  <div id=\"df-355364b4-1b22-4438-b374-3ea358d02b7e\">\n",
              "    <div class=\"colab-df-container\">\n",
              "      <div>\n",
              "<style scoped>\n",
              "    .dataframe tbody tr th:only-of-type {\n",
              "        vertical-align: middle;\n",
              "    }\n",
              "\n",
              "    .dataframe tbody tr th {\n",
              "        vertical-align: top;\n",
              "    }\n",
              "\n",
              "    .dataframe thead th {\n",
              "        text-align: right;\n",
              "    }\n",
              "</style>\n",
              "<table border=\"1\" class=\"dataframe\">\n",
              "  <thead>\n",
              "    <tr style=\"text-align: right;\">\n",
              "      <th></th>\n",
              "      <th>Predicted</th>\n",
              "      <th>True</th>\n",
              "    </tr>\n",
              "  </thead>\n",
              "  <tbody>\n",
              "    <tr>\n",
              "      <th>31336</th>\n",
              "      <td>Neural_Networks</td>\n",
              "      <td>Neural_Networks</td>\n",
              "    </tr>\n",
              "    <tr>\n",
              "      <th>1061127</th>\n",
              "      <td>Rule_Learning</td>\n",
              "      <td>Rule_Learning</td>\n",
              "    </tr>\n",
              "    <tr>\n",
              "      <th>1106406</th>\n",
              "      <td>Reinforcement_Learning</td>\n",
              "      <td>Reinforcement_Learning</td>\n",
              "    </tr>\n",
              "    <tr>\n",
              "      <th>13195</th>\n",
              "      <td>Reinforcement_Learning</td>\n",
              "      <td>Reinforcement_Learning</td>\n",
              "    </tr>\n",
              "    <tr>\n",
              "      <th>37879</th>\n",
              "      <td>Probabilistic_Methods</td>\n",
              "      <td>Probabilistic_Methods</td>\n",
              "    </tr>\n",
              "    <tr>\n",
              "      <th>1126012</th>\n",
              "      <td>Probabilistic_Methods</td>\n",
              "      <td>Probabilistic_Methods</td>\n",
              "    </tr>\n",
              "    <tr>\n",
              "      <th>1107140</th>\n",
              "      <td>Probabilistic_Methods</td>\n",
              "      <td>Theory</td>\n",
              "    </tr>\n",
              "    <tr>\n",
              "      <th>1102850</th>\n",
              "      <td>Neural_Networks</td>\n",
              "      <td>Neural_Networks</td>\n",
              "    </tr>\n",
              "    <tr>\n",
              "      <th>31349</th>\n",
              "      <td>Neural_Networks</td>\n",
              "      <td>Neural_Networks</td>\n",
              "    </tr>\n",
              "    <tr>\n",
              "      <th>1106418</th>\n",
              "      <td>Theory</td>\n",
              "      <td>Theory</td>\n",
              "    </tr>\n",
              "    <tr>\n",
              "      <th>1123188</th>\n",
              "      <td>Neural_Networks</td>\n",
              "      <td>Neural_Networks</td>\n",
              "    </tr>\n",
              "    <tr>\n",
              "      <th>1128990</th>\n",
              "      <td>Neural_Networks</td>\n",
              "      <td>Genetic_Algorithms</td>\n",
              "    </tr>\n",
              "    <tr>\n",
              "      <th>109323</th>\n",
              "      <td>Probabilistic_Methods</td>\n",
              "      <td>Probabilistic_Methods</td>\n",
              "    </tr>\n",
              "    <tr>\n",
              "      <th>217139</th>\n",
              "      <td>Case_Based</td>\n",
              "      <td>Case_Based</td>\n",
              "    </tr>\n",
              "    <tr>\n",
              "      <th>31353</th>\n",
              "      <td>Neural_Networks</td>\n",
              "      <td>Neural_Networks</td>\n",
              "    </tr>\n",
              "    <tr>\n",
              "      <th>32083</th>\n",
              "      <td>Neural_Networks</td>\n",
              "      <td>Neural_Networks</td>\n",
              "    </tr>\n",
              "    <tr>\n",
              "      <th>1126029</th>\n",
              "      <td>Reinforcement_Learning</td>\n",
              "      <td>Reinforcement_Learning</td>\n",
              "    </tr>\n",
              "    <tr>\n",
              "      <th>1118017</th>\n",
              "      <td>Neural_Networks</td>\n",
              "      <td>Neural_Networks</td>\n",
              "    </tr>\n",
              "    <tr>\n",
              "      <th>49482</th>\n",
              "      <td>Neural_Networks</td>\n",
              "      <td>Neural_Networks</td>\n",
              "    </tr>\n",
              "    <tr>\n",
              "      <th>753265</th>\n",
              "      <td>Theory</td>\n",
              "      <td>Neural_Networks</td>\n",
              "    </tr>\n",
              "  </tbody>\n",
              "</table>\n",
              "</div>\n",
              "      <button class=\"colab-df-convert\" onclick=\"convertToInteractive('df-355364b4-1b22-4438-b374-3ea358d02b7e')\"\n",
              "              title=\"Convert this dataframe to an interactive table.\"\n",
              "              style=\"display:none;\">\n",
              "        \n",
              "  <svg xmlns=\"http://www.w3.org/2000/svg\" height=\"24px\"viewBox=\"0 0 24 24\"\n",
              "       width=\"24px\">\n",
              "    <path d=\"M0 0h24v24H0V0z\" fill=\"none\"/>\n",
              "    <path d=\"M18.56 5.44l.94 2.06.94-2.06 2.06-.94-2.06-.94-.94-2.06-.94 2.06-2.06.94zm-11 1L8.5 8.5l.94-2.06 2.06-.94-2.06-.94L8.5 2.5l-.94 2.06-2.06.94zm10 10l.94 2.06.94-2.06 2.06-.94-2.06-.94-.94-2.06-.94 2.06-2.06.94z\"/><path d=\"M17.41 7.96l-1.37-1.37c-.4-.4-.92-.59-1.43-.59-.52 0-1.04.2-1.43.59L10.3 9.45l-7.72 7.72c-.78.78-.78 2.05 0 2.83L4 21.41c.39.39.9.59 1.41.59.51 0 1.02-.2 1.41-.59l7.78-7.78 2.81-2.81c.8-.78.8-2.07 0-2.86zM5.41 20L4 18.59l7.72-7.72 1.47 1.35L5.41 20z\"/>\n",
              "  </svg>\n",
              "      </button>\n",
              "      \n",
              "  <style>\n",
              "    .colab-df-container {\n",
              "      display:flex;\n",
              "      flex-wrap:wrap;\n",
              "      gap: 12px;\n",
              "    }\n",
              "\n",
              "    .colab-df-convert {\n",
              "      background-color: #E8F0FE;\n",
              "      border: none;\n",
              "      border-radius: 50%;\n",
              "      cursor: pointer;\n",
              "      display: none;\n",
              "      fill: #1967D2;\n",
              "      height: 32px;\n",
              "      padding: 0 0 0 0;\n",
              "      width: 32px;\n",
              "    }\n",
              "\n",
              "    .colab-df-convert:hover {\n",
              "      background-color: #E2EBFA;\n",
              "      box-shadow: 0px 1px 2px rgba(60, 64, 67, 0.3), 0px 1px 3px 1px rgba(60, 64, 67, 0.15);\n",
              "      fill: #174EA6;\n",
              "    }\n",
              "\n",
              "    [theme=dark] .colab-df-convert {\n",
              "      background-color: #3B4455;\n",
              "      fill: #D2E3FC;\n",
              "    }\n",
              "\n",
              "    [theme=dark] .colab-df-convert:hover {\n",
              "      background-color: #434B5C;\n",
              "      box-shadow: 0px 1px 3px 1px rgba(0, 0, 0, 0.15);\n",
              "      filter: drop-shadow(0px 1px 2px rgba(0, 0, 0, 0.3));\n",
              "      fill: #FFFFFF;\n",
              "    }\n",
              "  </style>\n",
              "\n",
              "      <script>\n",
              "        const buttonEl =\n",
              "          document.querySelector('#df-355364b4-1b22-4438-b374-3ea358d02b7e button.colab-df-convert');\n",
              "        buttonEl.style.display =\n",
              "          google.colab.kernel.accessAllowed ? 'block' : 'none';\n",
              "\n",
              "        async function convertToInteractive(key) {\n",
              "          const element = document.querySelector('#df-355364b4-1b22-4438-b374-3ea358d02b7e');\n",
              "          const dataTable =\n",
              "            await google.colab.kernel.invokeFunction('convertToInteractive',\n",
              "                                                     [key], {});\n",
              "          if (!dataTable) return;\n",
              "\n",
              "          const docLinkHtml = 'Like what you see? Visit the ' +\n",
              "            '<a target=\"_blank\" href=https://colab.research.google.com/notebooks/data_table.ipynb>data table notebook</a>'\n",
              "            + ' to learn more about interactive tables.';\n",
              "          element.innerHTML = '';\n",
              "          dataTable['output_type'] = 'display_data';\n",
              "          await google.colab.output.renderOutput(dataTable, element);\n",
              "          const docLink = document.createElement('div');\n",
              "          docLink.innerHTML = docLinkHtml;\n",
              "          element.appendChild(docLink);\n",
              "        }\n",
              "      </script>\n",
              "    </div>\n",
              "  </div>\n",
              "  "
            ]
          },
          "metadata": {},
          "execution_count": 40
        }
      ]
    },
    {
      "cell_type": "markdown",
      "source": [
        "**Creating the GraphSAGE model**"
      ],
      "metadata": {
        "id": "yi917eSQAMrt"
      }
    },
    {
      "cell_type": "code",
      "source": [
        "batch_size = 50\n",
        "num_samples = [10, 5]\n",
        "generator = GraphSAGENodeGenerator(G, batch_size, num_samples)\n",
        "train_gen = generator.flow(train_subjects.index, train_targets, shuffle=True)\n",
        "graphsage_model = GraphSAGE(\n",
        "    layer_sizes=[32, 32], generator=generator, bias=True, dropout=0.5,\n",
        ")\n",
        "\n",
        "x_inp, x_out = graphsage_model.in_out_tensors()\n",
        "prediction = layers.Dense(units=train_targets.shape[1], activation=\"softmax\")(x_out)"
      ],
      "metadata": {
        "id": "jZ55PmvZAP6b"
      },
      "execution_count": 65,
      "outputs": []
    },
    {
      "cell_type": "markdown",
      "source": [
        "**training graphsage**"
      ],
      "metadata": {
        "id": "JStJFnCyBPz7"
      }
    },
    {
      "cell_type": "code",
      "source": [
        "model = Model(inputs=x_inp, outputs=prediction)\n",
        "model.compile(\n",
        "    optimizer=optimizers.Adam(lr=0.005),\n",
        "    loss=losses.categorical_crossentropy,\n",
        "    metrics=[\"acc\"],\n",
        ")"
      ],
      "metadata": {
        "colab": {
          "base_uri": "https://localhost:8080/"
        },
        "id": "eXCPhX02BZM0",
        "outputId": "97ac5f8a-5a9a-4e8a-c98c-8b863ec3d810"
      },
      "execution_count": 66,
      "outputs": [
        {
          "output_type": "stream",
          "name": "stderr",
          "text": [
            "/usr/local/lib/python3.7/dist-packages/keras/optimizer_v2/adam.py:105: UserWarning: The `lr` argument is deprecated, use `learning_rate` instead.\n",
            "  super(Adam, self).__init__(name, **kwargs)\n"
          ]
        }
      ]
    },
    {
      "cell_type": "code",
      "source": [
        "test_gen = generator.flow(test_subjects.index, test_targets)\n"
      ],
      "metadata": {
        "id": "nWkCOF3_BfgD"
      },
      "execution_count": 67,
      "outputs": []
    },
    {
      "cell_type": "code",
      "source": [
        "history = model.fit(\n",
        "    train_gen, epochs=20, validation_data=test_gen, verbose=2, shuffle=False\n",
        ")"
      ],
      "metadata": {
        "colab": {
          "base_uri": "https://localhost:8080/"
        },
        "id": "E6JtgEDUBlcT",
        "outputId": "e24c7666-0c1b-48f3-9aae-1b31cdcbc5e3"
      },
      "execution_count": 68,
      "outputs": [
        {
          "output_type": "stream",
          "name": "stdout",
          "text": [
            "Epoch 1/20\n",
            "3/3 - 4s - loss: 1.9097 - acc: 0.2429 - val_loss: 1.7789 - val_acc: 0.3245 - 4s/epoch - 1s/step\n",
            "Epoch 2/20\n",
            "3/3 - 3s - loss: 1.7074 - acc: 0.4143 - val_loss: 1.6961 - val_acc: 0.3399 - 3s/epoch - 935ms/step\n",
            "Epoch 3/20\n",
            "3/3 - 2s - loss: 1.5979 - acc: 0.4286 - val_loss: 1.6080 - val_acc: 0.4541 - 2s/epoch - 630ms/step\n",
            "Epoch 4/20\n",
            "3/3 - 2s - loss: 1.4901 - acc: 0.6357 - val_loss: 1.5204 - val_acc: 0.5740 - 2s/epoch - 631ms/step\n",
            "Epoch 5/20\n",
            "3/3 - 3s - loss: 1.3711 - acc: 0.8286 - val_loss: 1.4399 - val_acc: 0.6605 - 3s/epoch - 940ms/step\n",
            "Epoch 6/20\n",
            "3/3 - 3s - loss: 1.2951 - acc: 0.8429 - val_loss: 1.3677 - val_acc: 0.7224 - 3s/epoch - 936ms/step\n",
            "Epoch 7/20\n",
            "3/3 - 3s - loss: 1.1922 - acc: 0.9571 - val_loss: 1.3039 - val_acc: 0.7471 - 3s/epoch - 936ms/step\n",
            "Epoch 8/20\n",
            "3/3 - 2s - loss: 1.1149 - acc: 0.9500 - val_loss: 1.2549 - val_acc: 0.7548 - 2s/epoch - 642ms/step\n",
            "Epoch 9/20\n",
            "3/3 - 2s - loss: 1.0329 - acc: 0.9714 - val_loss: 1.2041 - val_acc: 0.7563 - 2s/epoch - 642ms/step\n",
            "Epoch 10/20\n",
            "3/3 - 3s - loss: 0.9549 - acc: 0.9714 - val_loss: 1.1543 - val_acc: 0.7650 - 3s/epoch - 940ms/step\n",
            "Epoch 11/20\n",
            "3/3 - 2s - loss: 0.8852 - acc: 0.9786 - val_loss: 1.1204 - val_acc: 0.7650 - 2s/epoch - 642ms/step\n",
            "Epoch 12/20\n",
            "3/3 - 3s - loss: 0.8535 - acc: 0.9857 - val_loss: 1.0833 - val_acc: 0.7727 - 3s/epoch - 938ms/step\n",
            "Epoch 13/20\n",
            "3/3 - 3s - loss: 0.8040 - acc: 0.9786 - val_loss: 1.0530 - val_acc: 0.7737 - 3s/epoch - 943ms/step\n",
            "Epoch 14/20\n",
            "3/3 - 3s - loss: 0.7509 - acc: 0.9929 - val_loss: 1.0236 - val_acc: 0.7732 - 3s/epoch - 939ms/step\n",
            "Epoch 15/20\n",
            "3/3 - 2s - loss: 0.7058 - acc: 0.9929 - val_loss: 0.9904 - val_acc: 0.7805 - 2s/epoch - 652ms/step\n",
            "Epoch 16/20\n",
            "3/3 - 2s - loss: 0.6562 - acc: 0.9929 - val_loss: 0.9647 - val_acc: 0.7853 - 2s/epoch - 608ms/step\n",
            "Epoch 17/20\n",
            "3/3 - 2s - loss: 0.6235 - acc: 0.9857 - val_loss: 0.9420 - val_acc: 0.7814 - 2s/epoch - 636ms/step\n",
            "Epoch 18/20\n",
            "3/3 - 2s - loss: 0.5814 - acc: 1.0000 - val_loss: 0.9237 - val_acc: 0.7776 - 2s/epoch - 642ms/step\n",
            "Epoch 19/20\n",
            "3/3 - 2s - loss: 0.5368 - acc: 1.0000 - val_loss: 0.9079 - val_acc: 0.7785 - 2s/epoch - 631ms/step\n",
            "Epoch 20/20\n",
            "3/3 - 3s - loss: 0.5124 - acc: 1.0000 - val_loss: 0.8914 - val_acc: 0.7805 - 3s/epoch - 940ms/step\n"
          ]
        }
      ]
    },
    {
      "cell_type": "code",
      "source": [
        "sg.utils.plot_history(history)\n"
      ],
      "metadata": {
        "colab": {
          "base_uri": "https://localhost:8080/",
          "height": 585
        },
        "id": "_HnUTLVTBmHj",
        "outputId": "80275ddd-3a8c-4d71-d901-b54af5acff2a"
      },
      "execution_count": 69,
      "outputs": [
        {
          "output_type": "display_data",
          "data": {
            "text/plain": [
              "<Figure size 504x576 with 2 Axes>"
            ],
            "image/png": "[encoded data removed]"
          },
          "metadata": {
            "needs_background": "light"
          }
        }
      ]
    },
    {
      "cell_type": "code",
      "source": [
        "test_metrics = model.evaluate(test_gen)\n",
        "print(\"\\nTest Set Metrics:\")\n",
        "for name, val in zip(model.metrics_names, test_metrics):\n",
        "    print(\"\\t{}: {:0.4f}\".format(name, val))"
      ],
      "metadata": {
        "colab": {
          "base_uri": "https://localhost:8080/"
        },
        "id": "p35Nt7fICDYe",
        "outputId": "0b1a6361-f63d-4d63-85ca-7e42846a03ee"
      },
      "execution_count": 70,
      "outputs": [
        {
          "output_type": "stream",
          "name": "stdout",
          "text": [
            "42/42 [==============================] - 2s 40ms/step - loss: 0.8913 - acc: 0.7814\n",
            "\n",
            "Test Set Metrics:\n",
            "\tloss: 0.8913\n",
            "\tacc: 0.7814\n"
          ]
        }
      ]
    },
    {
      "cell_type": "code",
      "source": [
        "all_nodes = node_subjects.index\n",
        "all_mapper = generator.flow(all_nodes)\n",
        "all_predictions = model.predict(all_mapper)\n",
        "\n",
        "node_predictions1 = target_encoding.inverse_transform(all_predictions)\n",
        "\n",
        "\n",
        "df = pd.DataFrame({\"Predicted\": node_predictions1, \"True\": node_subjects})\n",
        "df.head(20)"
      ],
      "metadata": {
        "colab": {
          "base_uri": "https://localhost:8080/",
          "height": 677
        },
        "id": "wY6-cyruCJd4",
        "outputId": "b080316c-fe81-45e7-9353-14229fbf1c51"
      },
      "execution_count": 71,
      "outputs": [
        {
          "output_type": "execute_result",
          "data": {
            "text/plain": [
              "                      Predicted                    True\n",
              "31336           Neural_Networks         Neural_Networks\n",
              "1061127           Rule_Learning           Rule_Learning\n",
              "1106406  Reinforcement_Learning  Reinforcement_Learning\n",
              "13195    Reinforcement_Learning  Reinforcement_Learning\n",
              "37879     Probabilistic_Methods   Probabilistic_Methods\n",
              "1126012   Probabilistic_Methods   Probabilistic_Methods\n",
              "1107140   Probabilistic_Methods                  Theory\n",
              "1102850         Neural_Networks         Neural_Networks\n",
              "31349           Neural_Networks         Neural_Networks\n",
              "1106418                  Theory                  Theory\n",
              "1123188         Neural_Networks         Neural_Networks\n",
              "1128990              Case_Based      Genetic_Algorithms\n",
              "109323    Probabilistic_Methods   Probabilistic_Methods\n",
              "217139               Case_Based              Case_Based\n",
              "31353           Neural_Networks         Neural_Networks\n",
              "32083                    Theory         Neural_Networks\n",
              "1126029  Reinforcement_Learning  Reinforcement_Learning\n",
              "1118017         Neural_Networks         Neural_Networks\n",
              "49482           Neural_Networks         Neural_Networks\n",
              "753265          Neural_Networks         Neural_Networks"
            ],
            "text/html": [
              "\n",
              "  <div id=\"df-90763593-1207-403f-9e13-a981bcea9c67\">\n",
              "    <div class=\"colab-df-container\">\n",
              "      <div>\n",
              "<style scoped>\n",
              "    .dataframe tbody tr th:only-of-type {\n",
              "        vertical-align: middle;\n",
              "    }\n",
              "\n",
              "    .dataframe tbody tr th {\n",
              "        vertical-align: top;\n",
              "    }\n",
              "\n",
              "    .dataframe thead th {\n",
              "        text-align: right;\n",
              "    }\n",
              "</style>\n",
              "<table border=\"1\" class=\"dataframe\">\n",
              "  <thead>\n",
              "    <tr style=\"text-align: right;\">\n",
              "      <th></th>\n",
              "      <th>Predicted</th>\n",
              "      <th>True</th>\n",
              "    </tr>\n",
              "  </thead>\n",
              "  <tbody>\n",
              "    <tr>\n",
              "      <th>31336</th>\n",
              "      <td>Neural_Networks</td>\n",
              "      <td>Neural_Networks</td>\n",
              "    </tr>\n",
              "    <tr>\n",
              "      <th>1061127</th>\n",
              "      <td>Rule_Learning</td>\n",
              "      <td>Rule_Learning</td>\n",
              "    </tr>\n",
              "    <tr>\n",
              "      <th>1106406</th>\n",
              "      <td>Reinforcement_Learning</td>\n",
              "      <td>Reinforcement_Learning</td>\n",
              "    </tr>\n",
              "    <tr>\n",
              "      <th>13195</th>\n",
              "      <td>Reinforcement_Learning</td>\n",
              "      <td>Reinforcement_Learning</td>\n",
              "    </tr>\n",
              "    <tr>\n",
              "      <th>37879</th>\n",
              "      <td>Probabilistic_Methods</td>\n",
              "      <td>Probabilistic_Methods</td>\n",
              "    </tr>\n",
              "    <tr>\n",
              "      <th>1126012</th>\n",
              "      <td>Probabilistic_Methods</td>\n",
              "      <td>Probabilistic_Methods</td>\n",
              "    </tr>\n",
              "    <tr>\n",
              "      <th>1107140</th>\n",
              "      <td>Probabilistic_Methods</td>\n",
              "      <td>Theory</td>\n",
              "    </tr>\n",
              "    <tr>\n",
              "      <th>1102850</th>\n",
              "      <td>Neural_Networks</td>\n",
              "      <td>Neural_Networks</td>\n",
              "    </tr>\n",
              "    <tr>\n",
              "      <th>31349</th>\n",
              "      <td>Neural_Networks</td>\n",
              "      <td>Neural_Networks</td>\n",
              "    </tr>\n",
              "    <tr>\n",
              "      <th>1106418</th>\n",
              "      <td>Theory</td>\n",
              "      <td>Theory</td>\n",
              "    </tr>\n",
              "    <tr>\n",
              "      <th>1123188</th>\n",
              "      <td>Neural_Networks</td>\n",
              "      <td>Neural_Networks</td>\n",
              "    </tr>\n",
              "    <tr>\n",
              "      <th>1128990</th>\n",
              "      <td>Case_Based</td>\n",
              "      <td>Genetic_Algorithms</td>\n",
              "    </tr>\n",
              "    <tr>\n",
              "      <th>109323</th>\n",
              "      <td>Probabilistic_Methods</td>\n",
              "      <td>Probabilistic_Methods</td>\n",
              "    </tr>\n",
              "    <tr>\n",
              "      <th>217139</th>\n",
              "      <td>Case_Based</td>\n",
              "      <td>Case_Based</td>\n",
              "    </tr>\n",
              "    <tr>\n",
              "      <th>31353</th>\n",
              "      <td>Neural_Networks</td>\n",
              "      <td>Neural_Networks</td>\n",
              "    </tr>\n",
              "    <tr>\n",
              "      <th>32083</th>\n",
              "      <td>Theory</td>\n",
              "      <td>Neural_Networks</td>\n",
              "    </tr>\n",
              "    <tr>\n",
              "      <th>1126029</th>\n",
              "      <td>Reinforcement_Learning</td>\n",
              "      <td>Reinforcement_Learning</td>\n",
              "    </tr>\n",
              "    <tr>\n",
              "      <th>1118017</th>\n",
              "      <td>Neural_Networks</td>\n",
              "      <td>Neural_Networks</td>\n",
              "    </tr>\n",
              "    <tr>\n",
              "      <th>49482</th>\n",
              "      <td>Neural_Networks</td>\n",
              "      <td>Neural_Networks</td>\n",
              "    </tr>\n",
              "    <tr>\n",
              "      <th>753265</th>\n",
              "      <td>Neural_Networks</td>\n",
              "      <td>Neural_Networks</td>\n",
              "    </tr>\n",
              "  </tbody>\n",
              "</table>\n",
              "</div>\n",
              "      <button class=\"colab-df-convert\" onclick=\"convertToInteractive('df-90763593-1207-403f-9e13-a981bcea9c67')\"\n",
              "              title=\"Convert this dataframe to an interactive table.\"\n",
              "              style=\"display:none;\">\n",
              "        \n",
              "  <svg xmlns=\"http://www.w3.org/2000/svg\" height=\"24px\"viewBox=\"0 0 24 24\"\n",
              "       width=\"24px\">\n",
              "    <path d=\"M0 0h24v24H0V0z\" fill=\"none\"/>\n",
              "    <path d=\"M18.56 5.44l.94 2.06.94-2.06 2.06-.94-2.06-.94-.94-2.06-.94 2.06-2.06.94zm-11 1L8.5 8.5l.94-2.06 2.06-.94-2.06-.94L8.5 2.5l-.94 2.06-2.06.94zm10 10l.94 2.06.94-2.06 2.06-.94-2.06-.94-.94-2.06-.94 2.06-2.06.94z\"/><path d=\"M17.41 7.96l-1.37-1.37c-.4-.4-.92-.59-1.43-.59-.52 0-1.04.2-1.43.59L10.3 9.45l-7.72 7.72c-.78.78-.78 2.05 0 2.83L4 21.41c.39.39.9.59 1.41.59.51 0 1.02-.2 1.41-.59l7.78-7.78 2.81-2.81c.8-.78.8-2.07 0-2.86zM5.41 20L4 18.59l7.72-7.72 1.47 1.35L5.41 20z\"/>\n",
              "  </svg>\n",
              "      </button>\n",
              "      \n",
              "  <style>\n",
              "    .colab-df-container {\n",
              "      display:flex;\n",
              "      flex-wrap:wrap;\n",
              "      gap: 12px;\n",
              "    }\n",
              "\n",
              "    .colab-df-convert {\n",
              "      background-color: #E8F0FE;\n",
              "      border: none;\n",
              "      border-radius: 50%;\n",
              "      cursor: pointer;\n",
              "      display: none;\n",
              "      fill: #1967D2;\n",
              "      height: 32px;\n",
              "      padding: 0 0 0 0;\n",
              "      width: 32px;\n",
              "    }\n",
              "\n",
              "    .colab-df-convert:hover {\n",
              "      background-color: #E2EBFA;\n",
              "      box-shadow: 0px 1px 2px rgba(60, 64, 67, 0.3), 0px 1px 3px 1px rgba(60, 64, 67, 0.15);\n",
              "      fill: #174EA6;\n",
              "    }\n",
              "\n",
              "    [theme=dark] .colab-df-convert {\n",
              "      background-color: #3B4455;\n",
              "      fill: #D2E3FC;\n",
              "    }\n",
              "\n",
              "    [theme=dark] .colab-df-convert:hover {\n",
              "      background-color: #434B5C;\n",
              "      box-shadow: 0px 1px 3px 1px rgba(0, 0, 0, 0.15);\n",
              "      filter: drop-shadow(0px 1px 2px rgba(0, 0, 0, 0.3));\n",
              "      fill: #FFFFFF;\n",
              "    }\n",
              "  </style>\n",
              "\n",
              "      <script>\n",
              "        const buttonEl =\n",
              "          document.querySelector('#df-90763593-1207-403f-9e13-a981bcea9c67 button.colab-df-convert');\n",
              "        buttonEl.style.display =\n",
              "          google.colab.kernel.accessAllowed ? 'block' : 'none';\n",
              "\n",
              "        async function convertToInteractive(key) {\n",
              "          const element = document.querySelector('#df-90763593-1207-403f-9e13-a981bcea9c67');\n",
              "          const dataTable =\n",
              "            await google.colab.kernel.invokeFunction('convertToInteractive',\n",
              "                                                     [key], {});\n",
              "          if (!dataTable) return;\n",
              "\n",
              "          const docLinkHtml = 'Like what you see? Visit the ' +\n",
              "            '<a target=\"_blank\" href=https://colab.research.google.com/notebooks/data_table.ipynb>data table notebook</a>'\n",
              "            + ' to learn more about interactive tables.';\n",
              "          element.innerHTML = '';\n",
              "          dataTable['output_type'] = 'display_data';\n",
              "          await google.colab.output.renderOutput(dataTable, element);\n",
              "          const docLink = document.createElement('div');\n",
              "          docLink.innerHTML = docLinkHtml;\n",
              "          element.appendChild(docLink);\n",
              "        }\n",
              "      </script>\n",
              "    </div>\n",
              "  </div>\n",
              "  "
            ]
          },
          "metadata": {},
          "execution_count": 71
        }
      ]
    },
    {
      "cell_type": "markdown",
      "source": [
        "**Creating the GAT model**"
      ],
      "metadata": {
        "id": "Y5xDBCaIDLzV"
      }
    },
    {
      "cell_type": "code",
      "source": [
        "generator = FullBatchNodeGenerator(G, method=\"gat\")\n",
        "train_gen = generator.flow(train_subjects.index, train_targets)\n",
        "gat = GAT(\n",
        "    layer_sizes=[8, train_targets.shape[1]],\n",
        "    activations=[\"relu\", \"softmax\"],\n",
        "    attn_heads=8,\n",
        "    generator=generator,\n",
        "    in_dropout=0.5,\n",
        "    attn_dropout=0.5,\n",
        "    normalize=None,\n",
        ")\n",
        "\n",
        "x_inp, predictions = gat.in_out_tensors()\n"
      ],
      "metadata": {
        "id": "9hb6Nm6CDOHh"
      },
      "execution_count": 51,
      "outputs": []
    },
    {
      "cell_type": "code",
      "source": [
        "model = Model(inputs=x_inp, outputs=predictions)\n",
        "model.compile(\n",
        "    optimizer=optimizers.Adam(lr=0.005),\n",
        "    loss=losses.categorical_crossentropy,\n",
        "    metrics=[\"acc\"],\n",
        ")"
      ],
      "metadata": {
        "colab": {
          "base_uri": "https://localhost:8080/"
        },
        "id": "xaLzMFEEDjF3",
        "outputId": "94169d2d-4b39-451b-eb80-d40495cccf78"
      },
      "execution_count": 52,
      "outputs": [
        {
          "output_type": "stream",
          "name": "stderr",
          "text": [
            "/usr/local/lib/python3.7/dist-packages/keras/optimizer_v2/adam.py:105: UserWarning: The `lr` argument is deprecated, use `learning_rate` instead.\n",
            "  super(Adam, self).__init__(name, **kwargs)\n"
          ]
        }
      ]
    },
    {
      "cell_type": "code",
      "source": [
        "val_gen = generator.flow(val_subjects.index, val_targets)\n",
        "\n",
        "from tensorflow.keras.callbacks import EarlyStopping, ModelCheckpoint\n",
        "\n",
        "if not os.path.isdir(\"logs\"):\n",
        "    os.makedirs(\"logs\")\n",
        "es_callback = EarlyStopping(\n",
        "    monitor=\"val_acc\", patience=20\n",
        ")  # patience is the number of epochs to wait before early stopping in case of no further improvement\n",
        "mc_callback = ModelCheckpoint(\n",
        "    \"logs/best_model.h5\", monitor=\"val_acc\", save_best_only=True, save_weights_only=True\n",
        ")"
      ],
      "metadata": {
        "id": "kGAuMdZLDqZ4"
      },
      "execution_count": 54,
      "outputs": []
    },
    {
      "cell_type": "code",
      "source": [
        "history = model.fit(\n",
        "    train_gen,\n",
        "    epochs=50,\n",
        "    validation_data=val_gen,\n",
        "    verbose=2,\n",
        "    shuffle=False,  # this should be False, since shuffling data means shuffling the whole graph\n",
        "    callbacks=[es_callback, mc_callback],\n",
        ")"
      ],
      "metadata": {
        "colab": {
          "base_uri": "https://localhost:8080/"
        },
        "id": "d7PsN2FZDyZ0",
        "outputId": "8ea55f52-50e0-4eb8-95d3-479439b1996f"
      },
      "execution_count": 55,
      "outputs": [
        {
          "output_type": "stream",
          "name": "stdout",
          "text": [
            "Epoch 1/50\n",
            "1/1 - 7s - loss: 1.9661 - acc: 0.1286 - val_loss: 1.8896 - val_acc: 0.3820 - 7s/epoch - 7s/step\n",
            "Epoch 2/50\n",
            "1/1 - 0s - loss: 1.8539 - acc: 0.3571 - val_loss: 1.8332 - val_acc: 0.4100 - 391ms/epoch - 391ms/step\n",
            "Epoch 3/50\n",
            "1/1 - 0s - loss: 1.8147 - acc: 0.3714 - val_loss: 1.7759 - val_acc: 0.3980 - 326ms/epoch - 326ms/step\n",
            "Epoch 4/50\n",
            "1/1 - 0s - loss: 1.7489 - acc: 0.4357 - val_loss: 1.7180 - val_acc: 0.4060 - 347ms/epoch - 347ms/step\n",
            "Epoch 5/50\n",
            "1/1 - 0s - loss: 1.6767 - acc: 0.4071 - val_loss: 1.6588 - val_acc: 0.4120 - 384ms/epoch - 384ms/step\n",
            "Epoch 6/50\n",
            "1/1 - 0s - loss: 1.6311 - acc: 0.4071 - val_loss: 1.5998 - val_acc: 0.4140 - 362ms/epoch - 362ms/step\n",
            "Epoch 7/50\n",
            "1/1 - 0s - loss: 1.5340 - acc: 0.4643 - val_loss: 1.5405 - val_acc: 0.4360 - 351ms/epoch - 351ms/step\n",
            "Epoch 8/50\n",
            "1/1 - 0s - loss: 1.4517 - acc: 0.5000 - val_loss: 1.4813 - val_acc: 0.4580 - 366ms/epoch - 366ms/step\n",
            "Epoch 9/50\n",
            "1/1 - 0s - loss: 1.3802 - acc: 0.5643 - val_loss: 1.4239 - val_acc: 0.4900 - 361ms/epoch - 361ms/step\n",
            "Epoch 10/50\n",
            "1/1 - 0s - loss: 1.3766 - acc: 0.5286 - val_loss: 1.3676 - val_acc: 0.5280 - 363ms/epoch - 363ms/step\n",
            "Epoch 11/50\n",
            "1/1 - 0s - loss: 1.3374 - acc: 0.5071 - val_loss: 1.3141 - val_acc: 0.5680 - 357ms/epoch - 357ms/step\n",
            "Epoch 12/50\n",
            "1/1 - 0s - loss: 1.3269 - acc: 0.5429 - val_loss: 1.2632 - val_acc: 0.6100 - 363ms/epoch - 363ms/step\n",
            "Epoch 13/50\n",
            "1/1 - 0s - loss: 1.2547 - acc: 0.5071 - val_loss: 1.2141 - val_acc: 0.6280 - 364ms/epoch - 364ms/step\n",
            "Epoch 14/50\n",
            "1/1 - 0s - loss: 1.2087 - acc: 0.6214 - val_loss: 1.1671 - val_acc: 0.6640 - 356ms/epoch - 356ms/step\n",
            "Epoch 15/50\n",
            "1/1 - 0s - loss: 1.0969 - acc: 0.6786 - val_loss: 1.1219 - val_acc: 0.7040 - 373ms/epoch - 373ms/step\n",
            "Epoch 16/50\n",
            "1/1 - 0s - loss: 1.0888 - acc: 0.6429 - val_loss: 1.0811 - val_acc: 0.7340 - 366ms/epoch - 366ms/step\n",
            "Epoch 17/50\n",
            "1/1 - 0s - loss: 0.9816 - acc: 0.7500 - val_loss: 1.0418 - val_acc: 0.7440 - 374ms/epoch - 374ms/step\n",
            "Epoch 18/50\n",
            "1/1 - 0s - loss: 1.0477 - acc: 0.7071 - val_loss: 1.0030 - val_acc: 0.7580 - 365ms/epoch - 365ms/step\n",
            "Epoch 19/50\n",
            "1/1 - 0s - loss: 0.9148 - acc: 0.7786 - val_loss: 0.9660 - val_acc: 0.7680 - 369ms/epoch - 369ms/step\n",
            "Epoch 20/50\n",
            "1/1 - 0s - loss: 0.8865 - acc: 0.7429 - val_loss: 0.9310 - val_acc: 0.7820 - 377ms/epoch - 377ms/step\n",
            "Epoch 21/50\n",
            "1/1 - 0s - loss: 0.9031 - acc: 0.7500 - val_loss: 0.8988 - val_acc: 0.7940 - 370ms/epoch - 370ms/step\n",
            "Epoch 22/50\n",
            "1/1 - 0s - loss: 0.7843 - acc: 0.7929 - val_loss: 0.8691 - val_acc: 0.7960 - 373ms/epoch - 373ms/step\n",
            "Epoch 23/50\n",
            "1/1 - 0s - loss: 0.8302 - acc: 0.7429 - val_loss: 0.8423 - val_acc: 0.7980 - 352ms/epoch - 352ms/step\n",
            "Epoch 24/50\n",
            "1/1 - 0s - loss: 0.9155 - acc: 0.7429 - val_loss: 0.8189 - val_acc: 0.8000 - 373ms/epoch - 373ms/step\n",
            "Epoch 25/50\n",
            "1/1 - 0s - loss: 0.7438 - acc: 0.8214 - val_loss: 0.7978 - val_acc: 0.8060 - 360ms/epoch - 360ms/step\n",
            "Epoch 26/50\n",
            "1/1 - 0s - loss: 0.7091 - acc: 0.8214 - val_loss: 0.7782 - val_acc: 0.8080 - 381ms/epoch - 381ms/step\n",
            "Epoch 27/50\n",
            "1/1 - 0s - loss: 0.7480 - acc: 0.7929 - val_loss: 0.7602 - val_acc: 0.8120 - 351ms/epoch - 351ms/step\n",
            "Epoch 28/50\n",
            "1/1 - 0s - loss: 0.7314 - acc: 0.7929 - val_loss: 0.7445 - val_acc: 0.8100 - 339ms/epoch - 339ms/step\n",
            "Epoch 29/50\n",
            "1/1 - 0s - loss: 0.7259 - acc: 0.8143 - val_loss: 0.7311 - val_acc: 0.8100 - 336ms/epoch - 336ms/step\n",
            "Epoch 30/50\n",
            "1/1 - 0s - loss: 0.6786 - acc: 0.8429 - val_loss: 0.7170 - val_acc: 0.8080 - 345ms/epoch - 345ms/step\n",
            "Epoch 31/50\n",
            "1/1 - 0s - loss: 0.7712 - acc: 0.7500 - val_loss: 0.7045 - val_acc: 0.8060 - 350ms/epoch - 350ms/step\n",
            "Epoch 32/50\n",
            "1/1 - 0s - loss: 0.6894 - acc: 0.8000 - val_loss: 0.6942 - val_acc: 0.8080 - 337ms/epoch - 337ms/step\n",
            "Epoch 33/50\n",
            "1/1 - 0s - loss: 0.6946 - acc: 0.8071 - val_loss: 0.6849 - val_acc: 0.8060 - 342ms/epoch - 342ms/step\n",
            "Epoch 34/50\n",
            "1/1 - 0s - loss: 0.7322 - acc: 0.8429 - val_loss: 0.6775 - val_acc: 0.8060 - 334ms/epoch - 334ms/step\n",
            "Epoch 35/50\n",
            "1/1 - 0s - loss: 0.6577 - acc: 0.8571 - val_loss: 0.6715 - val_acc: 0.8100 - 344ms/epoch - 344ms/step\n",
            "Epoch 36/50\n",
            "1/1 - 0s - loss: 0.6319 - acc: 0.8500 - val_loss: 0.6658 - val_acc: 0.8100 - 347ms/epoch - 347ms/step\n",
            "Epoch 37/50\n",
            "1/1 - 0s - loss: 0.6254 - acc: 0.8143 - val_loss: 0.6613 - val_acc: 0.8100 - 353ms/epoch - 353ms/step\n",
            "Epoch 38/50\n",
            "1/1 - 0s - loss: 0.5909 - acc: 0.8429 - val_loss: 0.6575 - val_acc: 0.8100 - 347ms/epoch - 347ms/step\n",
            "Epoch 39/50\n",
            "1/1 - 0s - loss: 0.5684 - acc: 0.9000 - val_loss: 0.6535 - val_acc: 0.8100 - 343ms/epoch - 343ms/step\n",
            "Epoch 40/50\n",
            "1/1 - 0s - loss: 0.5602 - acc: 0.8571 - val_loss: 0.6501 - val_acc: 0.8100 - 331ms/epoch - 331ms/step\n",
            "Epoch 41/50\n",
            "1/1 - 0s - loss: 0.5730 - acc: 0.8500 - val_loss: 0.6475 - val_acc: 0.8120 - 333ms/epoch - 333ms/step\n",
            "Epoch 42/50\n",
            "1/1 - 0s - loss: 0.5708 - acc: 0.8643 - val_loss: 0.6445 - val_acc: 0.8120 - 326ms/epoch - 326ms/step\n",
            "Epoch 43/50\n",
            "1/1 - 0s - loss: 0.5574 - acc: 0.8500 - val_loss: 0.6423 - val_acc: 0.8080 - 335ms/epoch - 335ms/step\n",
            "Epoch 44/50\n",
            "1/1 - 0s - loss: 0.5734 - acc: 0.8571 - val_loss: 0.6392 - val_acc: 0.8120 - 324ms/epoch - 324ms/step\n",
            "Epoch 45/50\n",
            "1/1 - 0s - loss: 0.4901 - acc: 0.8929 - val_loss: 0.6351 - val_acc: 0.8100 - 335ms/epoch - 335ms/step\n",
            "Epoch 46/50\n",
            "1/1 - 0s - loss: 0.5722 - acc: 0.8643 - val_loss: 0.6299 - val_acc: 0.8080 - 327ms/epoch - 327ms/step\n",
            "Epoch 47/50\n",
            "1/1 - 0s - loss: 0.6860 - acc: 0.8143 - val_loss: 0.6239 - val_acc: 0.8100 - 331ms/epoch - 331ms/step\n"
          ]
        }
      ]
    },
    {
      "cell_type": "code",
      "source": [
        "sg.utils.plot_history(history)\n"
      ],
      "metadata": {
        "colab": {
          "base_uri": "https://localhost:8080/",
          "height": 585
        },
        "id": "DZmhX8Y1EBao",
        "outputId": "9f28c657-933d-48b3-e577-b299416529ed"
      },
      "execution_count": 56,
      "outputs": [
        {
          "output_type": "display_data",
          "data": {
            "text/plain": [
              "<Figure size 504x576 with 2 Axes>"
            ],
            "image/png": "[encoded data removed]"
          },
          "metadata": {
            "needs_background": "light"
          }
        }
      ]
    },
    {
      "cell_type": "code",
      "source": [
        "test_gen = generator.flow(test_subjects.index, test_targets)\n",
        "test_metrics = model.evaluate(test_gen)\n",
        "print(\"\\nTest Set Metrics:\")\n",
        "for name, val in zip(model.metrics_names, test_metrics):\n",
        "    print(\"\\t{}: {:0.4f}\".format(name, val))"
      ],
      "metadata": {
        "colab": {
          "base_uri": "https://localhost:8080/"
        },
        "id": "wihnCdlIEDca",
        "outputId": "b46fc6f1-7296-4c36-e414-4734e9fb0558"
      },
      "execution_count": 57,
      "outputs": [
        {
          "output_type": "stream",
          "name": "stdout",
          "text": [
            "1/1 [==============================] - 0s 95ms/step - loss: 0.6400 - acc: 0.8240\n",
            "\n",
            "Test Set Metrics:\n",
            "\tloss: 0.6400\n",
            "\tacc: 0.8240\n"
          ]
        }
      ]
    },
    {
      "cell_type": "code",
      "source": [
        "all_nodes = node_subjects.index\n",
        "all_gen = generator.flow(all_nodes)\n",
        "all_predictions = model.predict(all_gen)\n",
        "\n",
        "node_predictions = target_encoding.inverse_transform(all_predictions.squeeze())\n",
        "\n",
        "df = pd.DataFrame({\"Predicted\": node_predictions, \"True\": node_subjects})\n",
        "df.head(20)"
      ],
      "metadata": {
        "colab": {
          "base_uri": "https://localhost:8080/",
          "height": 677
        },
        "id": "ckQpyB7FEVbd",
        "outputId": "39ac73b2-16a8-46d4-b78c-ffa41df21220"
      },
      "execution_count": 58,
      "outputs": [
        {
          "output_type": "execute_result",
          "data": {
            "text/plain": [
              "                      Predicted                    True\n",
              "31336           Neural_Networks         Neural_Networks\n",
              "1061127           Rule_Learning           Rule_Learning\n",
              "1106406  Reinforcement_Learning  Reinforcement_Learning\n",
              "13195    Reinforcement_Learning  Reinforcement_Learning\n",
              "37879     Probabilistic_Methods   Probabilistic_Methods\n",
              "1126012   Probabilistic_Methods   Probabilistic_Methods\n",
              "1107140   Probabilistic_Methods                  Theory\n",
              "1102850         Neural_Networks         Neural_Networks\n",
              "31349           Neural_Networks         Neural_Networks\n",
              "1106418                  Theory                  Theory\n",
              "1123188         Neural_Networks         Neural_Networks\n",
              "1128990      Genetic_Algorithms      Genetic_Algorithms\n",
              "109323    Probabilistic_Methods   Probabilistic_Methods\n",
              "217139               Case_Based              Case_Based\n",
              "31353           Neural_Networks         Neural_Networks\n",
              "32083           Neural_Networks         Neural_Networks\n",
              "1126029  Reinforcement_Learning  Reinforcement_Learning\n",
              "1118017         Neural_Networks         Neural_Networks\n",
              "49482           Neural_Networks         Neural_Networks\n",
              "753265          Neural_Networks         Neural_Networks"
            ],
            "text/html": [
              "\n",
              "  <div id=\"df-e28e9a3c-0a71-4411-96f2-0ed4212e9005\">\n",
              "    <div class=\"colab-df-container\">\n",
              "      <div>\n",
              "<style scoped>\n",
              "    .dataframe tbody tr th:only-of-type {\n",
              "        vertical-align: middle;\n",
              "    }\n",
              "\n",
              "    .dataframe tbody tr th {\n",
              "        vertical-align: top;\n",
              "    }\n",
              "\n",
              "    .dataframe thead th {\n",
              "        text-align: right;\n",
              "    }\n",
              "</style>\n",
              "<table border=\"1\" class=\"dataframe\">\n",
              "  <thead>\n",
              "    <tr style=\"text-align: right;\">\n",
              "      <th></th>\n",
              "      <th>Predicted</th>\n",
              "      <th>True</th>\n",
              "    </tr>\n",
              "  </thead>\n",
              "  <tbody>\n",
              "    <tr>\n",
              "      <th>31336</th>\n",
              "      <td>Neural_Networks</td>\n",
              "      <td>Neural_Networks</td>\n",
              "    </tr>\n",
              "    <tr>\n",
              "      <th>1061127</th>\n",
              "      <td>Rule_Learning</td>\n",
              "      <td>Rule_Learning</td>\n",
              "    </tr>\n",
              "    <tr>\n",
              "      <th>1106406</th>\n",
              "      <td>Reinforcement_Learning</td>\n",
              "      <td>Reinforcement_Learning</td>\n",
              "    </tr>\n",
              "    <tr>\n",
              "      <th>13195</th>\n",
              "      <td>Reinforcement_Learning</td>\n",
              "      <td>Reinforcement_Learning</td>\n",
              "    </tr>\n",
              "    <tr>\n",
              "      <th>37879</th>\n",
              "      <td>Probabilistic_Methods</td>\n",
              "      <td>Probabilistic_Methods</td>\n",
              "    </tr>\n",
              "    <tr>\n",
              "      <th>1126012</th>\n",
              "      <td>Probabilistic_Methods</td>\n",
              "      <td>Probabilistic_Methods</td>\n",
              "    </tr>\n",
              "    <tr>\n",
              "      <th>1107140</th>\n",
              "      <td>Probabilistic_Methods</td>\n",
              "      <td>Theory</td>\n",
              "    </tr>\n",
              "    <tr>\n",
              "      <th>1102850</th>\n",
              "      <td>Neural_Networks</td>\n",
              "      <td>Neural_Networks</td>\n",
              "    </tr>\n",
              "    <tr>\n",
              "      <th>31349</th>\n",
              "      <td>Neural_Networks</td>\n",
              "      <td>Neural_Networks</td>\n",
              "    </tr>\n",
              "    <tr>\n",
              "      <th>1106418</th>\n",
              "      <td>Theory</td>\n",
              "      <td>Theory</td>\n",
              "    </tr>\n",
              "    <tr>\n",
              "      <th>1123188</th>\n",
              "      <td>Neural_Networks</td>\n",
              "      <td>Neural_Networks</td>\n",
              "    </tr>\n",
              "    <tr>\n",
              "      <th>1128990</th>\n",
              "      <td>Genetic_Algorithms</td>\n",
              "      <td>Genetic_Algorithms</td>\n",
              "    </tr>\n",
              "    <tr>\n",
              "      <th>109323</th>\n",
              "      <td>Probabilistic_Methods</td>\n",
              "      <td>Probabilistic_Methods</td>\n",
              "    </tr>\n",
              "    <tr>\n",
              "      <th>217139</th>\n",
              "      <td>Case_Based</td>\n",
              "      <td>Case_Based</td>\n",
              "    </tr>\n",
              "    <tr>\n",
              "      <th>31353</th>\n",
              "      <td>Neural_Networks</td>\n",
              "      <td>Neural_Networks</td>\n",
              "    </tr>\n",
              "    <tr>\n",
              "      <th>32083</th>\n",
              "      <td>Neural_Networks</td>\n",
              "      <td>Neural_Networks</td>\n",
              "    </tr>\n",
              "    <tr>\n",
              "      <th>1126029</th>\n",
              "      <td>Reinforcement_Learning</td>\n",
              "      <td>Reinforcement_Learning</td>\n",
              "    </tr>\n",
              "    <tr>\n",
              "      <th>1118017</th>\n",
              "      <td>Neural_Networks</td>\n",
              "      <td>Neural_Networks</td>\n",
              "    </tr>\n",
              "    <tr>\n",
              "      <th>49482</th>\n",
              "      <td>Neural_Networks</td>\n",
              "      <td>Neural_Networks</td>\n",
              "    </tr>\n",
              "    <tr>\n",
              "      <th>753265</th>\n",
              "      <td>Neural_Networks</td>\n",
              "      <td>Neural_Networks</td>\n",
              "    </tr>\n",
              "  </tbody>\n",
              "</table>\n",
              "</div>\n",
              "      <button class=\"colab-df-convert\" onclick=\"convertToInteractive('df-e28e9a3c-0a71-4411-96f2-0ed4212e9005')\"\n",
              "              title=\"Convert this dataframe to an interactive table.\"\n",
              "              style=\"display:none;\">\n",
              "        \n",
              "  <svg xmlns=\"http://www.w3.org/2000/svg\" height=\"24px\"viewBox=\"0 0 24 24\"\n",
              "       width=\"24px\">\n",
              "    <path d=\"M0 0h24v24H0V0z\" fill=\"none\"/>\n",
              "    <path d=\"M18.56 5.44l.94 2.06.94-2.06 2.06-.94-2.06-.94-.94-2.06-.94 2.06-2.06.94zm-11 1L8.5 8.5l.94-2.06 2.06-.94-2.06-.94L8.5 2.5l-.94 2.06-2.06.94zm10 10l.94 2.06.94-2.06 2.06-.94-2.06-.94-.94-2.06-.94 2.06-2.06.94z\"/><path d=\"M17.41 7.96l-1.37-1.37c-.4-.4-.92-.59-1.43-.59-.52 0-1.04.2-1.43.59L10.3 9.45l-7.72 7.72c-.78.78-.78 2.05 0 2.83L4 21.41c.39.39.9.59 1.41.59.51 0 1.02-.2 1.41-.59l7.78-7.78 2.81-2.81c.8-.78.8-2.07 0-2.86zM5.41 20L4 18.59l7.72-7.72 1.47 1.35L5.41 20z\"/>\n",
              "  </svg>\n",
              "      </button>\n",
              "      \n",
              "  <style>\n",
              "    .colab-df-container {\n",
              "      display:flex;\n",
              "      flex-wrap:wrap;\n",
              "      gap: 12px;\n",
              "    }\n",
              "\n",
              "    .colab-df-convert {\n",
              "      background-color: #E8F0FE;\n",
              "      border: none;\n",
              "      border-radius: 50%;\n",
              "      cursor: pointer;\n",
              "      display: none;\n",
              "      fill: #1967D2;\n",
              "      height: 32px;\n",
              "      padding: 0 0 0 0;\n",
              "      width: 32px;\n",
              "    }\n",
              "\n",
              "    .colab-df-convert:hover {\n",
              "      background-color: #E2EBFA;\n",
              "      box-shadow: 0px 1px 2px rgba(60, 64, 67, 0.3), 0px 1px 3px 1px rgba(60, 64, 67, 0.15);\n",
              "      fill: #174EA6;\n",
              "    }\n",
              "\n",
              "    [theme=dark] .colab-df-convert {\n",
              "      background-color: #3B4455;\n",
              "      fill: #D2E3FC;\n",
              "    }\n",
              "\n",
              "    [theme=dark] .colab-df-convert:hover {\n",
              "      background-color: #434B5C;\n",
              "      box-shadow: 0px 1px 3px 1px rgba(0, 0, 0, 0.15);\n",
              "      filter: drop-shadow(0px 1px 2px rgba(0, 0, 0, 0.3));\n",
              "      fill: #FFFFFF;\n",
              "    }\n",
              "  </style>\n",
              "\n",
              "      <script>\n",
              "        const buttonEl =\n",
              "          document.querySelector('#df-e28e9a3c-0a71-4411-96f2-0ed4212e9005 button.colab-df-convert');\n",
              "        buttonEl.style.display =\n",
              "          google.colab.kernel.accessAllowed ? 'block' : 'none';\n",
              "\n",
              "        async function convertToInteractive(key) {\n",
              "          const element = document.querySelector('#df-e28e9a3c-0a71-4411-96f2-0ed4212e9005');\n",
              "          const dataTable =\n",
              "            await google.colab.kernel.invokeFunction('convertToInteractive',\n",
              "                                                     [key], {});\n",
              "          if (!dataTable) return;\n",
              "\n",
              "          const docLinkHtml = 'Like what you see? Visit the ' +\n",
              "            '<a target=\"_blank\" href=https://colab.research.google.com/notebooks/data_table.ipynb>data table notebook</a>'\n",
              "            + ' to learn more about interactive tables.';\n",
              "          element.innerHTML = '';\n",
              "          dataTable['output_type'] = 'display_data';\n",
              "          await google.colab.output.renderOutput(dataTable, element);\n",
              "          const docLink = document.createElement('div');\n",
              "          docLink.innerHTML = docLinkHtml;\n",
              "          element.appendChild(docLink);\n",
              "        }\n",
              "      </script>\n",
              "    </div>\n",
              "  </div>\n",
              "  "
            ]
          },
          "metadata": {},
          "execution_count": 58
        }
      ]
    }
  ]
}